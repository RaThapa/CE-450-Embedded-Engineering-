{
  "nbformat": 4,
  "nbformat_minor": 0,
  "metadata": {
    "colab": {
      "provenance": [],
      "authorship_tag": "ABX9TyO0ubCeakfNiFq4367pbUIh",
      "include_colab_link": true
    },
    "kernelspec": {
      "name": "python3",
      "display_name": "Python 3"
    },
    "language_info": {
      "name": "python"
    }
  },
  "cells": [
    {
      "cell_type": "markdown",
      "metadata": {
        "id": "view-in-github",
        "colab_type": "text"
      },
      "source": [
        "<a href=\"https://colab.research.google.com/github/RaThapa/CE-450-Embedded-Engineering-/blob/main/CE450_Homework_4.ipynb\" target=\"_parent\"><img src=\"https://colab.research.google.com/assets/colab-badge.svg\" alt=\"Open In Colab\"/></a>"
      ]
    },
    {
      "cell_type": "markdown",
      "source": [
        "1.\tWrite a function to check if the element exists or not in the linked list.\n",
        "\n",
        "def   cntn_link(s, elm):\n",
        "\n",
        "  \"\"\"Return True if elm is in the linked list s\n",
        "  >>> cntn_link (link(1, link(2, link(3, empty))), 1)\n",
        "  True\n",
        "  >>> cntn_link (link(1, link(2, link(3, empty))), 4)\n",
        "  False\n",
        "  \"\"\"\n",
        "\n",
        "Answer:\n",
        "\n",
        "Additional comments:\n",
        "link function: Creates a linked list node with a value and a reference to the next node.\n",
        "\n",
        "cntn_link function: Recursively checks if an element is present in the linked list. If the current node is empty (s == empty), it returns False. If the current node's value matches the element (s[0] == elm), it returns True. Otherwise, it recursively calls cntn_link with the next node (s[1]) until it finds the element or reaches the end of the list.\n",
        "\n",
        "empty: Represents an empty node in the linked list.\n",
        "\n",
        "Function calls: Test the cntn_link function with different values to check if it correctly determines the presence of elements in the linked list."
      ],
      "metadata": {
        "id": "9jO36SAHJ4H2"
      }
    },
    {
      "cell_type": "code",
      "execution_count": null,
      "metadata": {
        "colab": {
          "base_uri": "https://localhost:8080/"
        },
        "id": "Nq1__gjIJusy",
        "outputId": "e8a02203-501b-4741-a635-4aae27fedffe"
      },
      "outputs": [
        {
          "output_type": "stream",
          "name": "stdout",
          "text": [
            "True\n",
            "False\n"
          ]
        }
      ],
      "source": [
        " #Define a function to create a linked list with a given value and next link.\n",
        "def link(value, next_link):\n",
        "    return [value, next_link]\n",
        "\n",
        "# Define a recursive function to check if an element is present in the linked list.\n",
        "def cntn_link(s, elm):\n",
        "    \"\"\"Return True if elm is in the linked list s\"\"\"\n",
        "    if s == empty:\n",
        "        return False\n",
        "    elif s[0] == elm:\n",
        "        return True\n",
        "    else:\n",
        "        return cntn_link(s[1], elm)\n",
        "\n",
        "# Given empty value\n",
        "empty = None\n",
        "\n",
        "# Function call 1: Check if the value 1 is present in the linked list [1, [2, [3, []]]]\n",
        "result1 = cntn_link(link(1, link(2, link(3, empty))), 1)\n",
        "print(result1)\n",
        "\n",
        "# Function call 2: Check if the value 4 is present in the linked list [1, [2, [3, []]]]\n",
        "result2 = cntn_link(link(1, link(2, link(3, empty))), 4)\n",
        "print(result2)"
      ]
    },
    {
      "cell_type": "markdown",
      "source": [
        "2.\tCreate a function to print linked list as follows.\n",
        "\n",
        "def prnt_lnk(s):\n",
        "\"\"\"\n",
        ">>> prnt_lnk ( link(1, link(2, link(3, link(4, empty)))) )\n",
        "<1 2 3 4>\n",
        "\"\"\"\n",
        "\n",
        "\n",
        "Answer:\n",
        "\n",
        "Additional comments:\n",
        "\n",
        "Link class: Represents a node in the linked list with a value attribute to store the node's value and a next attribute to point to the next node in the list.\n",
        "\n",
        "prnt_lnk function: Prints the linked list in the format <1 2 3 4> by iterating through the linked list starting from the head node (s) and appending each node's value to the result string.\n",
        "\n",
        "Function calls: Tests the prnt_lnk function by creating a linked list [1, 2, 3, 4] using the link function and printing it.\n",
        "\n",
        "\n",
        "\n",
        "\n",
        "\n"
      ],
      "metadata": {
        "id": "dR12iYfALX7C"
      }
    },
    {
      "cell_type": "code",
      "source": [
        "# Define a class for the linked list node.\n",
        "class Link:\n",
        "    def __init__(self, value, next=None):\n",
        "        self.value = value\n",
        "        self.next = next\n",
        "\n",
        "# Define a function to print the linked list in the specified format.\n",
        "def prnt_lnk(s):\n",
        "    result = \"<\"\n",
        "    while s is not None:\n",
        "        result += str(s.value) + \" \"  # Add the current node's value to the result.\n",
        "        s = s.next  # Move to the next node.\n",
        "    result = result.strip() + \">\"  # Format the result string.\n",
        "    print(result)  # Print the final result.\n",
        "\n",
        "# Given link function to create a linked list node.\n",
        "def link(value, next=None):\n",
        "    return Link(value, next)\n",
        "\n",
        "# Given an empty value for the last node in the linked list.\n",
        "empty = None\n",
        "\n",
        "# Test the function call by creating a linked list [1, 2, 3, 4] and printing it.\n",
        "prnt_lnk(link(1, link(2, link(3, link(4, empty)))))"
      ],
      "metadata": {
        "colab": {
          "base_uri": "https://localhost:8080/"
        },
        "id": "39jajrDaLXS1",
        "outputId": "998aa8c4-1a96-4d6b-ac1f-aaa4bc1d2d9a"
      },
      "execution_count": null,
      "outputs": [
        {
          "output_type": "stream",
          "name": "stdout",
          "text": [
            "<1 2 3 4>\n"
          ]
        }
      ]
    },
    {
      "cell_type": "markdown",
      "source": [
        "3.\tImplement a function to create a new linked list in the reverse order.\n",
        "\n",
        "def rvrs_lnk(s):\n",
        "\n",
        "    \"\"\"Return linked list reversed\n",
        "    >>> rvrs_lnk (link(1, link(2, link(3, link(4, empty)))))\n",
        "    [4, [3, [2, [1, [ ] ]]]]\n",
        "  \"\"\"\n",
        "Answer:\n",
        "\n",
        "Aditional Comments:\n",
        "\n",
        "Link class: Represents a node in the linked list with a value attribute to store the node's value and a next attribute to point to the next node in the list.\n",
        "\n",
        "rvrs_lnk function: Recursively reverses the linked list. It defines a helper function reverse_helper that takes two arguments: the current node (s) and an accumulator (acc). If the current node is None, it returns the accumulator (which stores the reversed list). Otherwise, it recursively calls reverse_helper with the next node (s.next) and a new accumulator [s.value, acc] to prepend the current node's value to the accumulator.\n",
        "\n",
        "\n",
        "Function calls: Tests the rvrs_lnk function by creating a linked list [1, 2, 3, 4] using the link function and printing the reversed list."
      ],
      "metadata": {
        "id": "N1jp-QDvMUGM"
      }
    },
    {
      "cell_type": "code",
      "source": [
        "# Define a class for the linked list node.\n",
        "class Link:\n",
        "    def __init__(self, value, next=None):\n",
        "        self.value = value\n",
        "        self.next = next\n",
        "\n",
        "# Define a function to reverse a linked list recursively.\n",
        "def rvrs_lnk(s):\n",
        "    def reverse_helper(s, acc):\n",
        "        if s is None:  # Base case\n",
        "            return acc\n",
        "        else:  # Recursive case\n",
        "            return reverse_helper(s.next, [s.value, acc])\n",
        "\n",
        "    return reverse_helper(s, [])\n",
        "\n",
        "# Given link function to create a linked list node.\n",
        "def link(value, next=None):\n",
        "    return Link(value, next)\n",
        "\n",
        "# Given an empty value for the last node in the linked list.\n",
        "empty = None\n",
        "\n",
        "# Test the function call by creating a linked list [1, 2, 3, 4] and printing the reversed list.\n",
        "print(rvrs_lnk(link(1, link(2, link(3, link(4, empty))))))"
      ],
      "metadata": {
        "colab": {
          "base_uri": "https://localhost:8080/"
        },
        "id": "dut6zCXtMe1-",
        "outputId": "b24d695a-c470-4707-e20d-2378c51cc790"
      },
      "execution_count": null,
      "outputs": [
        {
          "output_type": "stream",
          "name": "stdout",
          "text": [
            "[4, [3, [2, [1, []]]]]\n"
          ]
        }
      ]
    },
    {
      "cell_type": "markdown",
      "source": [
        "4.\tWrite a function srt (lnk) function, which returns True if the linked list lnk is sorted ascendingly from the left to right. If two adjacent elements are equal, the linked list can still be considered sorted.\n",
        "\n",
        "def   srt (lnk):\n",
        "\n",
        "    \"\"\" if the linked list lnk is sorted, then return True\n",
        "\n",
        "    >>> lnk1 = link(1, link(2, link(3, link(4,empty))))\n",
        "    >>> srt (lnk1)\n",
        "    True\n",
        "    >>> lnk2 = link(1, link(3, link(2, link(4, link(5, empty)))))\n",
        "    >>> srt (lnk2)\n",
        "    False\n",
        "    >>> lnk3 = link(3, link(3, link(3, empty)))\n",
        "    >>> srt (lnk3)\n",
        "    True\n",
        "   \"\"\"\n",
        "\n",
        "Answer:\n",
        "\n",
        "Aditional comments:\n",
        "\n",
        "Link class: Represents a node in a linked list with two attributes:\n",
        "value: Stores the node's value.\n",
        "nxl: Points to the next node in the list.\n",
        "\n",
        "srt function: Checks if a linked list is sorted in ascending order. It iterates through the linked list, comparing each node's value with the next node's value. If it finds a node with a greater value than the next node, it returns False. If it reaches the end of the list without finding such a node, it returns True."
      ],
      "metadata": {
        "id": "d-Q7MjLQM6mw"
      }
    },
    {
      "cell_type": "code",
      "source": [
        "class link:\n",
        "    def __init__(self, value, nxl=None):\n",
        "        self.value = value\n",
        "        self.nxl = nxl\n",
        "\n",
        "def srt(lnk):\n",
        "    if lnk is None or lnk.nxl is None:\n",
        "        return True\n",
        "\n",
        "    c = lnk\n",
        "    while c.nxl is not None:\n",
        "        if c.value > c.nxl.value:\n",
        "            return False\n",
        "        c = c.nxl\n",
        "\n",
        "    return True\n",
        "\n",
        "lnk1 = link(1, link(2, link(3, link(4, empty))))\n",
        "lnk2 = link(1, link(3, link(2, link(4, link(5, empty)))))  #False: not in ascending order\n",
        "lnk3 = link(3, link(3, link(3, empty)))\n",
        "\n",
        "print(srt(lnk1))\n",
        "print(srt(lnk2))\n",
        "print(srt(lnk3))"
      ],
      "metadata": {
        "colab": {
          "base_uri": "https://localhost:8080/"
        },
        "id": "aOj5R6IHM57V",
        "outputId": "e570962c-32f3-4c7f-87b8-dfe12af3a63d"
      },
      "execution_count": null,
      "outputs": [
        {
          "output_type": "stream",
          "name": "stdout",
          "text": [
            "True\n",
            "False\n",
            "True\n"
          ]
        }
      ]
    },
    {
      "cell_type": "markdown",
      "source": [
        "5.\tWrite a function with arguments a linked list lnk and a function g, which is applied to each number in lnk and returns the sum. If the linked list is empty, the sum is 0.\n",
        "\n",
        "def   sum_lnk(lnk, g):\n",
        "\n",
        "    \"\"\"Applies a function g to each element in lnk and returns the sum\n",
        "    of them\n",
        "\n",
        "    >>> sqr = lambda x: x * x\n",
        "    >>> dbl = lambda y: 2 * y\n",
        "    >>> lnk1 = link(1, link(2, link(3, link(4, empty))))\n",
        "    >>> sum_lnk (lnk1, sqr)\n",
        "    30\t\t\t\t# sqr(1) + sqr(2)  + sqr(3)  + sqr(4)\n",
        "    >>> lnk2 = link(3, link(5, link(4, link(6, empty))))\n",
        "    >>> sum_lnk (lnk2, dbl)\n",
        "    36\t\t\t\t# dbl(3)+ dbl(5)+ dbl(4)+ dbl(6)\n",
        "   \"\"\"\n",
        "\n",
        "\n",
        "Answer:\n",
        "\n",
        "Aditional Comments:\n",
        "\n",
        "Link class: Represents a node in the linked list with two attributes:\n",
        "value: Stores the node's value. nxl: Points to the next node in the list.\n",
        "\n",
        "\n",
        "sum_lnk function: Takes a linked list lnk and a function g as arguments. It recursively applies the function g to each element in the linked list and returns the sum of the results.\n",
        "\n",
        "Base case: If the linked list is empty (lnk is None), it returns 0.\n",
        "\n",
        "Recursive case: It applies the function g to the current node's value and adds it to the sum of the rest of the linked list (sum_lnk(lnk.nxl, g)).\n",
        "\n",
        "Example : Defines two example functions sqr (squares the input) and dbl (doubles the input) using lambda expressions.\n",
        "\n",
        "Example cases : Creates two linked lists (lnk1 and lnk2) for testing.\n",
        "lnk1 contains the values 1, 2, 3, 4.\n",
        "lnk2 contains the values 3, 5, 4, 6.\n",
        "Function calls: Tests the sum_lnk function with different linked lists and functions.\n",
        "sum_lnk(lnk1, sqr) calculates the sum of squares of values in lnk1 (1^2 + 2^2 + 3^2 + 4^2 = 30).\n",
        "sum_lnk(lnk2, dbl) calculates the sum of doubled values in lnk2 (23 + 25 + 24 + 26 = 36)."
      ],
      "metadata": {
        "id": "AqirBxCuP1qx"
      }
    },
    {
      "cell_type": "code",
      "source": [
        "# Define a class for the linked list node.\n",
        "class Link:\n",
        "    def __init__(self, value, nxl=None):\n",
        "        self.value = value\n",
        "        self.nxl = nxl\n",
        "\n",
        "# Define the sum_lnk function that takes a linked list lnk and a function g as arguments.\n",
        "def sum_lnk(lnk, g):\n",
        "\n",
        "  # Base case: if the linked list is empty, return 0.\n",
        "    if lnk is None:\n",
        "        return 0\n",
        "    else:\n",
        "        return g(lnk.value) + sum_lnk(lnk.nxl, g)\n",
        "\n",
        "# Given an empty value for the last node in the linked list.\n",
        "empty = None\n",
        "\n",
        "\n",
        "# Example\n",
        "sqr = lambda x: x * x\n",
        "dbl = lambda y: 2 * y\n",
        "\n",
        "lnk1 = Link(1, Link(2, Link(3, Link(4, empty))))\n",
        "print(sum_lnk(lnk1, sqr))  # Output: 30 (sqr(1) + sqr(2) + sqr(3) + sqr(4))\n",
        "\n",
        "lnk2 = Link(3, Link(5, Link(4, Link(6, empty))))\n",
        "print(sum_lnk(lnk2, dbl))  # Output: 36 (dbl(3) + dbl(5) + dbl(4) + dbl(6))\n"
      ],
      "metadata": {
        "colab": {
          "base_uri": "https://localhost:8080/"
        },
        "id": "ZpHtaaChP6UK",
        "outputId": "b2e06f81-e16e-4c02-fc87-bea091e89be7"
      },
      "execution_count": null,
      "outputs": [
        {
          "output_type": "stream",
          "name": "stdout",
          "text": [
            "30\n",
            "36\n"
          ]
        }
      ]
    },
    {
      "cell_type": "markdown",
      "source": [
        "6.\tDefine a function with input parameters a linked list, lnk, and two elements, u & v. The function returns linked list but with all elements of u substituted with v.\n",
        "\n",
        "def change(lnk, u, v):\n",
        "\n",
        "\"\"\"Returns a linked list matching lnk but with all elements of u replaced by v. If u does not appear in lnk, then return lnk\n",
        "\n",
        " >>> l = link(1, link(2, link(3, empty)))\n",
        " >>> n=change(l, 3, 1)\n",
        " >>> n\n",
        " [1, [2, [1, [ ] ]]]\n",
        " >>> m=change(n, 1, 2)\n",
        " >>> m\n",
        " [2, [2, [2, [ ]]]]\n",
        " >>> change(m, 5, 1)\n",
        " [2, [2, [2, [ ]]]]\n",
        " \"\"\"\n"
      ],
      "metadata": {
        "id": "liCWWSvDR1AX"
      }
    },
    {
      "cell_type": "code",
      "source": [
        "class Link:\n",
        "    def __init__(self, value, nxl=None):\n",
        "        self.value = value\n",
        "        self.nxl = nxl\n",
        "\n",
        "def change(lnk, u, v):\n",
        "    if lnk is None:\n",
        "        return None\n",
        "    elif lnk.value == u:\n",
        "        return Link(v, change(lnk.nxl, u, v))\n",
        "    else:\n",
        "        return Link(lnk.value, change(lnk.nxl, u, v))\n",
        "\n",
        "# Given an empty value for the last node in the linked list.\n",
        "empty = None\n",
        "\n",
        "\n",
        "\n",
        "# Example usage\n",
        "l = Link(1, Link(2, Link(3, empty)))\n",
        "n = change(l, 3, 1)\n",
        "print([n.value, [n.nxl.value, [n.nxl.nxl.value, n.nxl.nxl.nxl]]])  # Output: [1, [2, [1, None]]]\n",
        "\n",
        "m = change(n, 1, 2)\n",
        "print([m.value, [m.nxl.value, [m.nxl.nxl.value, m.nxl.nxl.nxl]]])  # Output: [2, [2, [2, None]]]\n",
        "\n",
        "o = change(m, 5, 1)\n",
        "print([o.value, [o.nxl.value, [o.nxl.nxl.value, o.nxl.nxl.nxl]]])  # Output: [2, [2, [2, None]]]\n"
      ],
      "metadata": {
        "colab": {
          "base_uri": "https://localhost:8080/"
        },
        "id": "oRGM6ObCSh0E",
        "outputId": "89467129-f03c-4d2b-dfc0-ec690d58a6f3"
      },
      "execution_count": null,
      "outputs": [
        {
          "output_type": "stream",
          "name": "stdout",
          "text": [
            "[1, [2, [1, None]]]\n",
            "[2, [2, [2, None]]]\n",
            "[2, [2, [2, None]]]\n"
          ]
        }
      ]
    },
    {
      "cell_type": "markdown",
      "source": [
        "7.\tGenerate a function to append element to the end of linked list.\n",
        "\n",
        "def apnd(lnk, m):\n",
        "\n",
        "   \t \"\"\"Adds the element m to the end of lnk\n",
        "\n",
        "    \t>>> l = link(1, link(2, link(3, empty)))\n",
        "    \t>>> n = apnd (l, 4)                    # n = [1, [2, [3, [4, [] ]]]]\n",
        "    \t>>> first(rest(rest(rest(n))))\n",
        "   \t 4\n",
        "    \t\"\"\"\n"
      ],
      "metadata": {
        "id": "SD3J_IIzSiZ1"
      }
    },
    {
      "cell_type": "code",
      "source": [
        "# Define a linked list node\n",
        "def link(value, next_link):\n",
        "    return [value, next_link]\n",
        "\n",
        "# Check if a linked list is empty\n",
        "def is_empty(s):\n",
        "    return s == []\n",
        "\n",
        "# Get the first element of a linked list\n",
        "def first(s):\n",
        "    return s[0]\n",
        "\n",
        "# Get the rest of the linked list (i.e., the next node)\n",
        "def rest(s):\n",
        "    return s[1]\n",
        "\n",
        "# Function to append element 'm' to the end of the linked list 'lnk'\n",
        "def apnd(lnk, m):\n",
        "    if is_empty(lnk):\n",
        "        return link(m, [])\n",
        "    else:\n",
        "        return link(first(lnk), apnd(rest(lnk), m))\n",
        "\n",
        "# Convert the linked list to a nested list for display purposes\n",
        "def convert_to_list(lnk):\n",
        "    def helper(lst):\n",
        "        if is_empty(lst):\n",
        "            return []\n",
        "        else:\n",
        "            return [first(lst), helper(rest(lst))]\n",
        "\n",
        "    return helper(lnk)\n",
        "\n",
        "if __name__ == \"__main__\":\n",
        "    # Define the linked list: 1 -> 2 -> 3 -> None\n",
        "    l = link(1, link(2, link(3, [])))\n",
        "\n",
        "    # Append 4 to the end of the linked list\n",
        "    n = apnd(l, 4)\n",
        "    print(convert_to_list(n))\n",
        "\n",
        "    # Output the value of the last element in the modified linked list\n",
        "    print(first(rest(rest(rest(n)))))"
      ],
      "metadata": {
        "colab": {
          "base_uri": "https://localhost:8080/"
        },
        "id": "OOCEeDkAUUsd",
        "outputId": "6c8f487e-8186-42bc-e76b-a77d4177e49e"
      },
      "execution_count": null,
      "outputs": [
        {
          "output_type": "stream",
          "name": "stdout",
          "text": [
            "[1, [2, [3, [4, []]]]]\n",
            "4\n"
          ]
        }
      ]
    },
    {
      "cell_type": "markdown",
      "source": [
        "8.\tImplement the insert function that creates a copy of the original list with an item inserted at the specific index. If the index is greater than the current length, you should insert the item at the end of the list.\n",
        "\n",
        "def insrt(l, elm, ind):\n",
        "\n",
        "    \"\"\"\n",
        "    >>> l = link(11, link(12, link(13, empty)))\n",
        "    >>> n = insrt (l, 2021, 1)\n",
        "    >>> n\n",
        "    [11, [2021, [12, [13, [ ] ]]]]\n",
        "   >>> m = insrt(n, 2022, 20)\n",
        "   >>> m\n",
        "    [11 [2021 [12 [13 [2022, [ ] ]]]]]\n",
        "\"\"\"\n",
        "\n",
        "\n",
        "Answer:\n",
        "\n",
        "insrt function:\n",
        "Takes a linked list l, an element elm to insert, and an index ind at which to insert the element.\n",
        "If the index is 0 or the linked list is empty, inserts the element at the beginning of the list.\n",
        "Otherwise, recursively inserts the element at the specified index in the rest of the linked list."
      ],
      "metadata": {
        "id": "ennWnIuxUq1T"
      }
    },
    {
      "cell_type": "code",
      "source": [
        "# Define a linked list node\n",
        "def link(value, next_link):\n",
        "    return [value, next_link]\n",
        "\n",
        "# Check if a linked list is empty\n",
        "def is_empty(s):\n",
        "    return s == []\n",
        "\n",
        "# Get the first element of a linked list\n",
        "def first(s):\n",
        "    return s[0]\n",
        "\n",
        "# Get the rest of the linked list (i.e., the next node)\n",
        "def rest(s):\n",
        "    return s[1]\n",
        "\n",
        "# Function to insert element 'elm' at index 'ind' in the linked list 'l'\n",
        "def insrt(l, elm, ind):\n",
        "    if ind == 0 or is_empty(l):\n",
        "        return link(elm, l)\n",
        "    else:\n",
        "        return link(first(l), insrt(rest(l), elm, ind - 1))\n",
        "\n",
        "# Convert the linked list to a nested list for display purposes\n",
        "def convert_to_list(lnk):\n",
        "    def helper(lst):\n",
        "        if is_empty(lst):\n",
        "            return []\n",
        "        else:\n",
        "            return [first(lst), helper(rest(lst))]\n",
        "\n",
        "    return helper(lnk)\n",
        "\n",
        "if __name__ == \"__main__\":\n",
        "    # Define the linked list: 11 -> 12 -> 13 -> None\n",
        "    l = link(11, link(12, link(13, [])))\n",
        "\n",
        "    # Insert 2021 at index 1\n",
        "    n = insrt(l, 2021, 1)\n",
        "    print(convert_to_list(n))\n",
        "\n",
        "    # Index 20 exceeds current length, insert at the end\n",
        "    m = insrt(n, 2022, 20)\n",
        "    print(convert_to_list(m))"
      ],
      "metadata": {
        "colab": {
          "base_uri": "https://localhost:8080/"
        },
        "id": "T2sKYcMRUuD4",
        "outputId": "03516b86-3e93-4a30-84c8-fbb39cb0d15e"
      },
      "execution_count": null,
      "outputs": [
        {
          "output_type": "stream",
          "name": "stdout",
          "text": [
            "[11, [2021, [12, [13, []]]]]\n",
            "[11, [2021, [12, [13, [2022, []]]]]]\n"
          ]
        }
      ]
    }
  ]
}