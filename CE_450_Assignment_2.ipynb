{
  "nbformat": 4,
  "nbformat_minor": 0,
  "metadata": {
    "colab": {
      "provenance": [],
      "authorship_tag": "ABX9TyOCQVOFyjqz+T0tPLcPExga",
      "include_colab_link": true
    },
    "kernelspec": {
      "name": "python3",
      "display_name": "Python 3"
    },
    "language_info": {
      "name": "python"
    }
  },
  "cells": [
    {
      "cell_type": "markdown",
      "metadata": {
        "id": "view-in-github",
        "colab_type": "text"
      },
      "source": [
        "<a href=\"https://colab.research.google.com/github/RaThapa/CS-450/blob/main/CE_450_Assignment_2.ipynb\" target=\"_parent\"><img src=\"https://colab.research.google.com/assets/colab-badge.svg\" alt=\"Open In Colab\"/></a>"
      ]
    },
    {
      "cell_type": "markdown",
      "source": [
        "#Rasila Thapa (19990)\n"
      ],
      "metadata": {
        "id": "uLiRVsG8JaS2"
      }
    },
    {
      "cell_type": "markdown",
      "source": [
        "1.\tWrite a function to take a positive integer x as input and print all ways of forming positive integer x by multiplying two positive integers together, ordered by the first term. Then, return whether the sum of the proper divisors of x is greater than x.\n",
        "\n",
        "def abndnt(n):\n",
        "   \"\"\"\n",
        "   >>> abndnt(12) \t# 1 + 2 + 3 + 4 + 6 is 16, which is larger than 12\n",
        "   1 * 12\n",
        "   2 * 6\n",
        "   3 * 4\n",
        "   True\n",
        "  >>> abndnt (14)\t # 1 + 2 + 7 is 10, which is not larger than 14\n",
        "   1 * 14\n",
        "   2 * 7\n",
        "   False\n",
        "   >>> abndnt (16)\n",
        "   1 * 16\n",
        "   2 * 8\n",
        "   4 * 4\n",
        "   False\n",
        "   >>> abndnt (20)\n",
        "   1 * 20\n",
        " \t\t   2 * 10\n",
        "   4 * 5\n",
        "   True\n",
        "   >>> abndnt (22)\n",
        "   1 * 22\n",
        "   2 * 11\n",
        "   False\n",
        "   >>> r = abndnt(24)\n",
        "   1 * 24\n",
        "   2 * 12\n",
        "   3 * 8\n",
        "   4 * 6\n",
        "   >>> r\n",
        "  True\n",
        " \"\"\"\n"
      ],
      "metadata": {
        "id": "7ZhSJSHyAkst"
      }
    },
    {
      "cell_type": "code",
      "source": [
        "def abndnt(x):\n",
        "    # Function to calculate the sum of proper divisors of a number\n",
        "    def proper_divisors_sum(n):\n",
        "        return sum([i for i in range(1, n) if n % i == 0])\n",
        "\n",
        "    # Function to find all pairs of positive integers that multiply to n\n",
        "    def all_ways_to_form_x(n):\n",
        "        return [(i, n // i) for i in range(1, int(n ** 0.5) + 1) if n % i == 0]\n",
        "\n",
        "    # Function to check if a number is abundant\n",
        "    is_abundant = lambda n: proper_divisors_sum(n) > n\n",
        "\n",
        "    # Find all ways to form x\n",
        "    ways = all_ways_to_form_x(x)\n",
        "\n",
        "    # Print all ways to form x\n",
        "    print(*[f\"{a} * {b}\" for a, b in ways], sep='\\n')\n",
        "\n",
        "    # Check if the sum of proper divisors of x is greater than x\n",
        "    return proper_divisors_sum(x) > x\n",
        "\n",
        "# Test the function with the given examples\n",
        "print(abndnt(12))  # Should print True\n",
        "print(abndnt(14))  # Should print False\n",
        "print(abndnt(16))  # Should print False\n",
        "print(abndnt(20))  # Should print True\n",
        "print(abndnt(22))  # Should print False\n",
        "print(abndnt(24))  # Should print True\n"
      ],
      "metadata": {
        "colab": {
          "base_uri": "https://localhost:8080/"
        },
        "id": "w9rNSBXQDGC_",
        "outputId": "93137ed4-bb4c-4be0-8874-fe820eba4fe9"
      },
      "execution_count": null,
      "outputs": [
        {
          "output_type": "stream",
          "name": "stdout",
          "text": [
            "1 * 12\n",
            "2 * 6\n",
            "3 * 4\n",
            "True\n",
            "1 * 14\n",
            "2 * 7\n",
            "False\n",
            "1 * 16\n",
            "2 * 8\n",
            "4 * 4\n",
            "False\n",
            "1 * 20\n",
            "2 * 10\n",
            "4 * 5\n",
            "True\n",
            "1 * 22\n",
            "2 * 11\n",
            "False\n",
            "1 * 24\n",
            "2 * 12\n",
            "3 * 8\n",
            "4 * 6\n",
            "True\n"
          ]
        }
      ]
    },
    {
      "cell_type": "markdown",
      "source": [
        "2.\tDefine a high-order function to implement the following operations\n",
        "\n",
        "def   fancy_prnt (n):\n",
        "\"\"\"\n",
        "A function prints numbers in a specified range except those divisible by n, and print it with “Buzz!”\n",
        "\n",
        "    Assume that the following example is to print numbers from 0 to (10-1),\n",
        "    and print “Buzz!” at the location of the number divisible by 5   \n",
        "\n",
        "    >>> replace = fancy_prnt(5)\n",
        "    >>> replace(10)                                \n",
        "    0\n",
        "    Buzz!\n",
        "    2\n",
        "    3\n",
        "    4\n",
        "    Buzz!\n",
        "    6\n",
        "    7\n",
        "    8\n",
        "    9\n",
        "    \"\"\"\n"
      ],
      "metadata": {
        "id": "I71bznSVDS1O"
      }
    },
    {
      "cell_type": "code",
      "source": [
        "def fancy_prnt(n):\n",
        "    # Define a function 'replace' that takes a limit and prints numbers in a specified range\n",
        "    def replace(limit):\n",
        "        # Iterate over the range from 0 to 'limit-1'\n",
        "        for i in range(limit):\n",
        "            # Check if the current number 'i' is divisible by 'n'\n",
        "            if i % n == 0:\n",
        "                # If divisible, print \"Buzz!\"\n",
        "                print(\"Buzz!\")\n",
        "            else:\n",
        "                # If not divisible, print the number\n",
        "                print(i)\n",
        "\n",
        "    # Return the 'replace' function\n",
        "    return replace\n",
        "\n",
        "# Example usage\n",
        "replace = fancy_prnt(5)\n",
        "replace(10)\n"
      ],
      "metadata": {
        "colab": {
          "base_uri": "https://localhost:8080/"
        },
        "id": "n8phKdYiDpZb",
        "outputId": "5d60e3fc-0500-424f-e190-5c1edd695498"
      },
      "execution_count": null,
      "outputs": [
        {
          "output_type": "stream",
          "name": "stdout",
          "text": [
            "Buzz!\n",
            "1\n",
            "2\n",
            "3\n",
            "4\n",
            "Buzz!\n",
            "6\n",
            "7\n",
            "8\n",
            "9\n"
          ]
        }
      ]
    },
    {
      "cell_type": "markdown",
      "source": [
        "\t3. Create a high-order function to implement the following calculations\n",
        "\n",
        "def adder(f1, f2):\n",
        "    \"\"\"\n",
        "    Return a function that takes in a single variable x, and returns\n",
        "    f1(x) + f2(x). You can assume the result of f1(x) and f2(x) can be\n",
        "    added together, and they both take in one argument.\n",
        "\n",
        "    def  identity(n):\n",
        "\treturn n\n",
        "    \n",
        "   def  square(n):\n",
        "return n**2\n",
        "\n",
        "    >>> a1 = adder(identity, square)\n",
        "    >>> a1(4)\t\t\t\t\t# x + x^2 = 4 + 4^2 = 20\n",
        "    20\n",
        "    >>> a2 = adder(a1, identity)\n",
        "    >>> a2(4)\t    # a1(4) + identity(4) = identity(4)+ square(4)+ identity(4)\n",
        "    24\n",
        "    >>> a2(5)\n",
        "    35\n",
        "    >>> a3 = adder(a1, a2)           # (x + x^2) + (x + x^2 + x)\n",
        "    >>> a3(4)\n",
        "    44\n",
        "    \"\"\"\n"
      ],
      "metadata": {
        "id": "8ba41azAD8BV"
      }
    },
    {
      "cell_type": "code",
      "source": [
        "def adder(f1, f2):\n",
        "    # Define a new function that takes a single variable x\n",
        "    def add_functions(x):\n",
        "        # Return the sum of f1(x) and f2(x)\n",
        "        return f1(x) + f2(x)\n",
        "\n",
        "    # Return the new function\n",
        "    return add_functions\n",
        "\n",
        "# Example functions\n",
        "def identity(n):\n",
        "    return n\n",
        "\n",
        "def square(n):\n",
        "    return n ** 2\n",
        "\n",
        "# Example usage\n",
        "a1 = adder(identity, square)\n",
        "print(a1(4))  # Output: 20\n",
        "\n",
        "a2 = adder(a1, identity)\n",
        "print(a2(4))  # Output: 24\n",
        "print(a2(5))  # Output: 35\n",
        "\n",
        "a3 = adder(a1, a2)\n",
        "print(a3(4))  # Output: 44\n"
      ],
      "metadata": {
        "colab": {
          "base_uri": "https://localhost:8080/"
        },
        "id": "hB0OXzJxEByQ",
        "outputId": "06ead565-849f-4506-9069-c1685ceacc10"
      },
      "execution_count": null,
      "outputs": [
        {
          "output_type": "stream",
          "name": "stdout",
          "text": [
            "20\n",
            "24\n",
            "35\n",
            "44\n"
          ]
        }
      ]
    },
    {
      "cell_type": "markdown",
      "source": [
        "4.\tWhat is printed? And explain WHY\n",
        "\n",
        "from operator import *\n",
        "\n",
        "def   combine_funcs(op):\n",
        "    def   combined(f, g):\n",
        "        def   val(x):\n",
        "            return   op(f(x), g(x))\n",
        "        return   val\n",
        "    return   combined\n",
        "\n",
        "\n",
        ">>>add_func = combine_funcs(add)\n",
        "\n",
        ">>>h = add_func(abs, neg)\n",
        ">>>print(h(-5))\n",
        "\n",
        "*notice that python visualization online tool is good software to either observe program execution process or debug your program at http://pythontutor.com/visualize.html#mode=edit\n",
        "\n",
        "\n",
        "Answer:\n",
        "The combine_funcs function is defined to take an operator op as input and return a function combined that takes two functions f and g as input and returns a new function val.\n",
        "The val function takes a value x as input and returns the result of applying the operator op to f(x) and g(x).\n",
        "The add_func function is created by calling combine_funcs with the add operator, so add_func computes f(x) + g(x).\n",
        "h is then created by combining the abs and neg functions using add_func, so h computes abs(x) + neg(x).\n",
        "Finally, print(h(-5)) calls h with the argument -5, which results in abs(-5) + neg(-5) = 5 + (5) = 10, hence the output is 10.\n"
      ],
      "metadata": {
        "id": "POQ76xrPEkwD"
      }
    },
    {
      "cell_type": "code",
      "source": [
        "from operator import *\n",
        "\n",
        "def   combine_funcs(op):\n",
        "    def   combined(f, g):\n",
        "        def   val(x):\n",
        "            return   op(f(x), g(x))\n",
        "        return   val\n",
        "    return   combined\n",
        "\n",
        "\n",
        "add_func = combine_funcs(add)\n",
        "h = add_func(abs, neg) # absolute value ofm -5 is 5 and neg value of -5 is 5 (and adding them we get 10)\n",
        "print(h(-5))"
      ],
      "metadata": {
        "colab": {
          "base_uri": "https://localhost:8080/"
        },
        "id": "qGETwNCuTiUJ",
        "outputId": "6329b722-478f-4c84-9c0b-b92181638f95"
      },
      "execution_count": 4,
      "outputs": [
        {
          "output_type": "stream",
          "name": "stdout",
          "text": [
            "10\n"
          ]
        }
      ]
    },
    {
      "cell_type": "markdown",
      "source": [
        "5.\tWrite a function to implement intersects, which takes a one-argument function \"f\" and argument \"x\", returns a function \"g\". It returns True if f(x)=g(x), otherwise False.\n",
        "\n",
        "def   intscts(f, x):\n",
        "\n",
        "  \"\"\"Returns a function that returns if f intersects g at x.\n",
        "\n",
        "  >>> at_three = intscts (square, 3)\n",
        "  >>> at_three(triple) \t\t# triple(3) == square(3)\n",
        "  True\n",
        "  >>> at_three(increment)\n",
        "  False\n",
        "  >>> at_one = intscts (identity, 1)\n",
        "  >>> at_one(square)\n",
        "  True\n",
        "  >>> at_one(triple)\n",
        "  False\n",
        "  \"\"\"\n"
      ],
      "metadata": {
        "id": "Ef9uGcJzHELk"
      }
    },
    {
      "cell_type": "code",
      "source": [
        "def intscts(f, x):\n",
        "    # Define a function g that takes another function h as an argument\n",
        "    def g(h):\n",
        "        # Return True if f(x) equals h(x), otherwise return False\n",
        "        return f(x) == h(x)\n",
        "    # Return the function g\n",
        "    return g\n",
        "\n",
        "# Example functions\n",
        "def square(n):\n",
        "    return n ** 2\n",
        "\n",
        "def triple(n):\n",
        "    return n * 3\n",
        "\n",
        "def increment(n):\n",
        "    return n + 1\n",
        "\n",
        "def identity(n):\n",
        "    return n\n",
        "\n",
        "# Example usage\n",
        "at_three = intscts(square, 3)\n",
        "print(at_three(triple))    # Should print True\n",
        "print(at_three(increment)) # Should print False\n",
        "\n",
        "at_one = intscts(identity, 1)\n",
        "print(at_one(square))      # Should print True\n",
        "print(at_one(triple))      # Should print False\n"
      ],
      "metadata": {
        "colab": {
          "base_uri": "https://localhost:8080/"
        },
        "id": "qIw4lImMHh3R",
        "outputId": "90ba64f3-3f81-4b9a-9ab5-6a73d02b7d1b"
      },
      "execution_count": null,
      "outputs": [
        {
          "output_type": "stream",
          "name": "stdout",
          "text": [
            "True\n",
            "False\n",
            "True\n",
            "False\n"
          ]
        }
      ]
    },
    {
      "cell_type": "markdown",
      "source": [
        "6.\tComplete the following function\n",
        "\n",
        "def     f():\n",
        "  \"\"\"\n",
        "  >>> f()()(3)()\n",
        "  3\n",
        "  \"\"\"\n",
        "  # Your Program\n"
      ],
      "metadata": {
        "id": "18-IDtRJHjs1"
      }
    },
    {
      "cell_type": "code",
      "source": [
        "def f():\n",
        "    return lambda: lambda x: lambda: x\n",
        "\n",
        "# Test the function\n",
        "print(f()()(3)())  # Output: 3"
      ],
      "metadata": {
        "colab": {
          "base_uri": "https://localhost:8080/"
        },
        "id": "loAXkcTFeJjP",
        "outputId": "13e0307e-ee79-4a01-86de-d052537cc5f1"
      },
      "execution_count": 9,
      "outputs": [
        {
          "output_type": "stream",
          "name": "stdout",
          "text": [
            "3\n"
          ]
        }
      ]
    },
    {
      "cell_type": "markdown",
      "source": [
        "7.\tDefine a function \"smth\" that takes a function g and a value to use for dx and returns a function that computes the smoothed version of g. Do NOT use any \"def\" statements inside of \"smth\", but use \"lambda\" expressions instead.\n",
        "\n",
        "def    smth(g, dx):\n",
        "   \"\"\"Returns the smoothed version of g, f where\n",
        "   f(x) = (g(x - dx) + g(x) + g(x + dx)) / 3\n",
        "\n",
        "   >>> square = lambda x: x ** 2\n",
        "   >>> round(smth(square, 1)(0), 3)\n",
        "   0.667\n",
        "   \"\"\"\n"
      ],
      "metadata": {
        "id": "R5UCynC2IqId"
      }
    },
    {
      "cell_type": "code",
      "source": [
        "# Define the smth function using lambda expressions\n",
        "smth = lambda g, dx: lambda x: (g(x - dx) + g(x) + g(x + dx)) / 3\n",
        "\n",
        "# Test the function\n",
        "# Define a lambda function square that computes the square of a number\n",
        "square = lambda x: x ** 2\n",
        "# Compute the smoothed version of square with dx=1 at x=0\n",
        "result = smth(square, 1)(0)\n",
        "# Print the result rounded to 3 decimal places\n",
        "print(round(result, 3))  # Output: 0.667\n"
      ],
      "metadata": {
        "colab": {
          "base_uri": "https://localhost:8080/"
        },
        "id": "w-x2ftVPI4D3",
        "outputId": "6dd5e704-f81e-4674-fc63-d3d7c800a55b"
      },
      "execution_count": null,
      "outputs": [
        {
          "output_type": "stream",
          "name": "stdout",
          "text": [
            "0.667\n"
          ]
        }
      ]
    },
    {
      "cell_type": "markdown",
      "source": [
        "8.\tDefine a function \"cyc\" that takes in three functions g1, g2, and g3 as arguments. \"cyc\" will return another function that should take in an integer argument n and return another function. That final function should take in an argument x and cycle through applying g1, g2, and g3 to x, depending on what n was. Here's what the final function should do to x for a few values of n:\n",
        "\n",
        "•\tn = 0, return x\n",
        "•\tn = 1, apply g1 to x, or return g1(x)\n",
        "•\tn = 2, apply g1 to x and then g2 to the result of that, or return g2(g1(x))\n",
        "•\tn = 3, apply g1 to x, g2 to the result of applying g1, and then g3 to the result of applying g2, or g3(g2(g1(x)))\n",
        "•\tn = 4, start the cycle again applying g1, then g2, then g3, then g1 again, or g1(g3(g2(g1(x))))\n",
        "•\tAnd so forth.\n",
        "\n",
        "*Hint: most of the work goes inside the most nested function.\n",
        "\n",
        "def  cyc(g1, g2, g3):\n",
        "    \"\"\" Returns a function that is itself a higher order function\n",
        "    >>> def add_one(x):\n",
        "    ...        return x + 1\n",
        "\n",
        "    >>> def times_two(x):\n",
        "    ...        return x * 2\n",
        "\n",
        "    >>> def add_three(x):\n",
        "    ...        return x + 3\n",
        "\n",
        "    >>> my_cyc = cyc(add_one, times_two, add_three)\n",
        "    >>> h= my_cyc(0)\n",
        "    >>> h(5)\n",
        "    5\n",
        "\n",
        "    >>> h = my_cyc(2)\n",
        "    >>> h(1)\t\t# times_two (add_one (1))\n",
        "    4\n",
        "    >>> h = my_cyc(3)        \n",
        "    >>> h(2)\t\t# add_three (times_two (add_one (2)))\n",
        "    9\n",
        "\n",
        "    >>> h = my_cyc(4)\n",
        "    >>> h(2)\t\t# add_one (add_three (times_two (add_one (2))))\n",
        "    10\n",
        "\n",
        "    >>> h = my_cyc(6)\n",
        "    >>> h(1)\n",
        "    19\t   #add_three(times_two (add_one (add_three (times_two (add_one (1))))))\n",
        "    \"\"\"\n",
        "\n"
      ],
      "metadata": {
        "id": "DkD5AzIRI6i3"
      }
    },
    {
      "cell_type": "code",
      "source": [
        "def cyc(g1, g2, g3):\n",
        "    # Define a function apply_functions that takes an integer n\n",
        "    def apply_functions(n):\n",
        "        # Define a function apply that takes an argument x\n",
        "        def apply(x):\n",
        "            # Create a list of functions [g1, g2, g3]\n",
        "            funcs = [g1, g2, g3]\n",
        "            result = x\n",
        "            # Iterate n times\n",
        "            for _ in range(n):\n",
        "                # Apply the function at index _ % 3 to the result\n",
        "                result = funcs[_ % 3](result)\n",
        "            # Return the final result\n",
        "            return result\n",
        "        # Return the apply function\n",
        "        return apply\n",
        "    # Return the apply_functions function\n",
        "    return apply_functions\n",
        "\n",
        "# Test the function\n",
        "def add_one(x):\n",
        "    return x + 1\n",
        "\n",
        "def times_two(x):\n",
        "    return x * 2\n",
        "\n",
        "def add_three(x):\n",
        "    return x + 3\n",
        "\n",
        "my_cyc = cyc(add_one, times_two, add_three)\n",
        "h = my_cyc(0)\n",
        "print(h(5))  # Output: 5\n",
        "\n",
        "h = my_cyc(2)\n",
        "print(h(1))  # Output: 4\n",
        "\n",
        "h = my_cyc(3)\n",
        "print(h(2))  # Output: 9\n",
        "\n",
        "h = my_cyc(4)\n",
        "print(h(2))  # Output: 10\n",
        "\n",
        "h = my_cyc(6)\n",
        "print(h(1))  # Output: 19\n"
      ],
      "metadata": {
        "colab": {
          "base_uri": "https://localhost:8080/"
        },
        "id": "GMKzqYm1JXEj",
        "outputId": "399f5683-944c-42a2-d7d9-ce7ac94ca53c"
      },
      "execution_count": null,
      "outputs": [
        {
          "output_type": "stream",
          "name": "stdout",
          "text": [
            "5\n",
            "4\n",
            "9\n",
            "10\n",
            "19\n"
          ]
        }
      ]
    }
  ]
}