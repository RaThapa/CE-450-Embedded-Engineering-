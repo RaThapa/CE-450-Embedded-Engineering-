{
  "nbformat": 4,
  "nbformat_minor": 0,
  "metadata": {
    "colab": {
      "provenance": [],
      "authorship_tag": "ABX9TyPxEB08Z5JWgYA4QGhzBYW6",
      "include_colab_link": true
    },
    "kernelspec": {
      "name": "python3",
      "display_name": "Python 3"
    },
    "language_info": {
      "name": "python"
    }
  },
  "cells": [
    {
      "cell_type": "markdown",
      "metadata": {
        "id": "view-in-github",
        "colab_type": "text"
      },
      "source": [
        "<a href=\"https://colab.research.google.com/github/RaThapa/CE-450-Embedded-Engineering-/blob/main/CE450_Assignment_3.ipynb\" target=\"_parent\"><img src=\"https://colab.research.google.com/assets/colab-badge.svg\" alt=\"Open In Colab\"/></a>"
      ]
    },
    {
      "cell_type": "markdown",
      "source": [
        "1.\tWrite a high order function to make withdrawal from the balance in bank account by nonlocal variable.\n",
        "\n",
        "def mk_wd(balance):\n",
        "\n",
        "    \"\"\"\n",
        "    Return the balance after withdrawal since inception\n",
        "\n",
        "    >>> rem = mk_wd (100)\n",
        "             # deposit $100\n",
        "    >>> rem(10)\n",
        "    90\n",
        "    >>> rem (20)\n",
        "    70\n",
        "    >>> rem (100)\n",
        "   'Insufficient funds'\n",
        "   \"\"\"\n"
      ],
      "metadata": {
        "id": "iDve26avcHFl"
      }
    },
    {
      "cell_type": "code",
      "execution_count": null,
      "metadata": {
        "colab": {
          "base_uri": "https://localhost:8080/"
        },
        "id": "h0NEQOeUcAyC",
        "outputId": "4d864443-222f-4315-cd1e-5ec8c49cbfdf"
      },
      "outputs": [
        {
          "output_type": "stream",
          "name": "stdout",
          "text": [
            "90\n",
            "70\n",
            "Insufficient funds\n"
          ]
        }
      ],
      "source": [
        "def mk_wd(balance):\n",
        "    def withdraw(amount):\n",
        "        nonlocal balance\n",
        "        if balance >= amount:\n",
        "            balance -= amount\n",
        "            return balance\n",
        "        else:\n",
        "            return 'Insufficient funds'\n",
        "\n",
        "    return withdraw\n",
        "\n",
        "# Example usage\n",
        "rem = mk_wd(100)\n",
        "print(rem(10))  # 90\n",
        "print(rem(20))  # 70\n",
        "print(rem(100)) # 'Insufficient funds'\n"
      ]
    },
    {
      "cell_type": "markdown",
      "source": [
        "2. Write a function that deletes all instances of an element from a list.\n",
        "\n",
        "def  rm_all(elem, lst):\n",
        "\n",
        "\"\"\"\n",
        ">>> x = [3, 1, 2, 1, 5, 1, 1, 7]\n",
        "\n",
        ">>> rm_all (1, x)\n",
        "\n",
        ">>> x\n",
        "\n",
        "[3, 2, 5, 7]\n",
        "\"\"\"\n"
      ],
      "metadata": {
        "id": "-4_3vsVygMA2"
      }
    },
    {
      "cell_type": "code",
      "source": [
        "def rm_all(elem, lst):\n",
        "    \"\"\"\n",
        "    Removes all instances of an element from a list.\n",
        "\n",
        "    >>> x = [3, 1, 2, 1, 5, 1, 1, 7]\n",
        "    >>> rm_all(1, x)\n",
        "    >>> x\n",
        "    [3, 2, 5, 7]\n",
        "    \"\"\"\n",
        "    i = 0\n",
        "    while i < len(lst):\n",
        "        if lst[i] == elem:\n",
        "            lst.pop(i)\n",
        "        else:\n",
        "            i += 1\n",
        "x = [3, 1, 2, 1, 5, 1, 1, 7]\n",
        "rm_all(1, x)\n",
        "print(x)\n"
      ],
      "metadata": {
        "colab": {
          "base_uri": "https://localhost:8080/"
        },
        "id": "XiO1HO_jgR2U",
        "outputId": "0045becd-7c91-4229-f371-1d4edfbd78ea"
      },
      "execution_count": null,
      "outputs": [
        {
          "output_type": "stream",
          "name": "stdout",
          "text": [
            "[3, 2, 5, 7]\n"
          ]
        }
      ]
    },
    {
      "cell_type": "markdown",
      "source": [
        "3. Write a function that takes in three arguments x, elem, and a list, and adds as many \"elem\"s to the end of the list as there are x’s.\n",
        "\n",
        "def add_many(x, elem, lst):\n",
        "\n",
        "\"\"\"\n",
        "Adds elem to the end of lst the number of times x occurs in lst.\n",
        "\n",
        ">>> lst = [1, 2, 4, 2, 1]\n",
        "\n",
        ">>> add_many (2, 5, lst)\n",
        "\n",
        ">>> lst\n",
        "\n",
        "[1, 2, 4, 2, 1, 5, 5]\n",
        "\"\"\"\n",
        "\n"
      ],
      "metadata": {
        "id": "dQsLBLLIigrF"
      }
    },
    {
      "cell_type": "code",
      "source": [
        "def add_many(x, elem, lst):\n",
        "    \"\"\"\n",
        "    Adds elem to the end of lst the number of times x occurs in lst.\n",
        "\n",
        "    Args:\n",
        "    - x: The element to count in lst.\n",
        "    - elem: The element to add to the end of lst.\n",
        "    - lst: The list to modify.\n",
        "\n",
        "    Examples:\n",
        "    >>> lst = [1, 2, 4, 2, 1]\n",
        "    >>> add_many(2, 5, lst)\n",
        "    >>> lst\n",
        "    [1, 2, 4, 2, 1, 5, 5]\n",
        "    \"\"\"\n",
        "    count = lst.count(x)\n",
        "    for _ in range(count):\n",
        "        lst.append(elem)\n",
        "\n",
        "# Test case\n",
        "lst = [1, 2, 4, 2, 1]\n",
        "add_many(2, 5, lst)\n",
        "print(lst)\n"
      ],
      "metadata": {
        "id": "-JXBIOPvigSf"
      },
      "execution_count": null,
      "outputs": []
    },
    {
      "cell_type": "markdown",
      "source": [
        "4. Write a function to create a new list from given a \"suits\" list and a number list\n",
        "\n",
        "def  f (suits, numbers):\n",
        "\n",
        "\"\"\"Creates a new list (2-element list as one element in a new list) with the given suits and numbers. Each element in the returned list should be of the form [suit, number].\n",
        "\n",
        "    >>> f (['S', 'C'], [1, 2, 3])\n",
        "\n",
        "    [['S', 1], ['S', 2], ['S', 3], ['C', 1], ['C', 2], ['C', 3]]\n",
        "\n",
        "    >>> f (['S', 'C'], [3, 2, 1])\n",
        "\n",
        "    [['S', 3], ['S', 2], ['S', 1], ['C', 3], ['C', 2], ['C', 1]]\n",
        "    \n",
        "    >>> f ([], [3, 2, 1])\n",
        "    []\n",
        "    >>> f (['S', 'C'], [])\n",
        "    []\n"
      ],
      "metadata": {
        "id": "hZVDhqdgkACr"
      }
    },
    {
      "cell_type": "code",
      "source": [
        "def f(suits, numbers):\n",
        "    # Initialize an empty list to store the result\n",
        "    result = []\n",
        "\n",
        "    # Iterate over each suit\n",
        "    for suit in suits:\n",
        "        # Iterate over each number\n",
        "        for number in numbers:\n",
        "            # Append a list containing the current suit and number to the result list\n",
        "            result.append([suit, number])\n",
        "\n",
        "    # Return the final result\n",
        "    return result\n",
        "\n",
        "# Test cases\n",
        "print(f(['S', 'C'], [1, 2, 3]))  # [['S', 1], ['S', 2], ['S', 3], ['C', 1], ['C', 2], ['C', 3]]\n",
        "print(f(['S', 'C'], [3, 2, 1]))  # [['S', 3], ['S', 2], ['S', 1], ['C', 3], ['C', 2], ['C', 1]]\n",
        "print(f([], [3, 2, 1]))           # []\n",
        "print(f(['S', 'C'], []))          # []\n"
      ],
      "metadata": {
        "colab": {
          "base_uri": "https://localhost:8080/"
        },
        "id": "YXk_3AcRkFgN",
        "outputId": "6fca5895-9259-4e12-d769-ec2f339a8308"
      },
      "execution_count": null,
      "outputs": [
        {
          "output_type": "stream",
          "name": "stdout",
          "text": [
            "[['S', 1], ['S', 2], ['S', 3], ['C', 1], ['C', 2], ['C', 3]]\n",
            "[['S', 3], ['S', 2], ['S', 1], ['C', 3], ['C', 2], ['C', 1]]\n",
            "[]\n",
            "[]\n"
          ]
        }
      ]
    },
    {
      "cell_type": "markdown",
      "source": [
        "5. Write a function to merge 2 sorted lists a and b, and then return a new list with a sorted order by RECURSIVE calls.\n",
        "\n",
        "def mrg(ls1, ls2):\n",
        "    \"\"\"Merges two sorted lists recursively.\n",
        "\n",
        "    >>> mrg ([1, 3, 5], [2, 4, 6])\n",
        "    [1, 2, 3, 4, 5, 6]\n",
        "    >>> mrg ([], [2, 4, 6])\n",
        "    [2, 4, 6]\n",
        "    >>> mrg ([1, 2, 3], [])\n",
        "    [1, 2, 3]\n",
        "    >>> mrg ([5, 7], [2, 4, 6])\n",
        "    [2, 4, 5, 6, 7]\n",
        "    \"\"\"\n"
      ],
      "metadata": {
        "id": "n74xBOELll0V"
      }
    },
    {
      "cell_type": "code",
      "source": [
        "def mrg(ls1, ls2):\n",
        "\n",
        "    # Base cases: If either list is empty, return the other list\n",
        "    if not ls1:\n",
        "        return ls2\n",
        "    if not ls2:\n",
        "        return ls1\n",
        "\n",
        "    # Compare the first elements of ls1 and ls2\n",
        "    if ls1[0] < ls2[0]:\n",
        "        # If ls1[0] is smaller, merge the rest of ls1 with all of ls2\n",
        "        return [ls1[0]] + mrg(ls1[1:], ls2)\n",
        "    else:\n",
        "        # If ls2[0] is smaller or equal, merge the rest of ls2 with all of ls1\n",
        "        return [ls2[0]] + mrg(ls1, ls2[1:])\n",
        "\n",
        "# Test cases\n",
        "print(mrg([1, 3, 5], [2, 4, 6]))   # [1, 2, 3, 4, 5, 6]\n",
        "print(mrg([], [2, 4, 6]))          # [2, 4, 6]\n",
        "print(mrg([1, 2, 3], []))          # [1, 2, 3]\n",
        "print(mrg([5, 7], [2, 4, 6]))      # [2, 4, 5, 6, 7]\n",
        "\n"
      ],
      "metadata": {
        "colab": {
          "base_uri": "https://localhost:8080/"
        },
        "id": "8AImztO7l7AZ",
        "outputId": "4862f8dd-3d3c-46c4-e571-35527d5fcffc"
      },
      "execution_count": null,
      "outputs": [
        {
          "output_type": "stream",
          "name": "stdout",
          "text": [
            "[1, 2, 3, 4, 5, 6]\n",
            "[2, 4, 6]\n",
            "[1, 2, 3]\n",
            "[2, 4, 5, 6, 7]\n"
          ]
        }
      ]
    },
    {
      "cell_type": "markdown",
      "source": [
        "6. Write the function to flatten the deep list.\n",
        "\n",
        "def fltn(ls):\n",
        "    \"\"\"Return a new version of list as follows.\n",
        "\n",
        "    >>> fltn ([1, 2, 3])     \t\t# normal list\n",
        "    [1, 2, 3]\n",
        "    >>> x = [1, [2, 3], 4]      \t\t# deep list\n",
        "    >>> fltn (x)\n",
        "    [1, 2, 3, 4]\n",
        "    >>> x = [[1, [1, 1]], 1, [1, 1]] \t# deep list\n",
        "    >>> fltn (x)\n",
        "    [1, 1, 1, 1, 1, 1]\n",
        "    \"\"\"\n",
        "\n"
      ],
      "metadata": {
        "id": "MAcJWKF6mg_V"
      }
    },
    {
      "cell_type": "code",
      "source": [
        "def fltn(ls):\n",
        "\n",
        "    result = []\n",
        "    for item in ls:\n",
        "        if isinstance(item, list):\n",
        "            # If the item is a list, recursively flatten it and extend the result\n",
        "            result.extend(fltn(item))\n",
        "        else:\n",
        "            # If the item is not a list, add it to the result\n",
        "            result.append(item)\n",
        "    return result\n",
        "\n",
        "\n",
        "print(fltn([1, 2, 3]))           # [1, 2, 3]\n",
        "x = [1, [2, 3], 4]\n",
        "print(fltn(x))                   # [1, 2, 3, 4]\n",
        "x = [[1, [1, 1]], 1, [1, 1]]\n",
        "print(fltn(x))                   # [1, 1, 1, 1, 1, 1]\n"
      ],
      "metadata": {
        "colab": {
          "base_uri": "https://localhost:8080/"
        },
        "id": "2NK5yv4Wmkho",
        "outputId": "c94c22b4-408b-44d9-e095-25a6f62c8c7e"
      },
      "execution_count": null,
      "outputs": [
        {
          "output_type": "stream",
          "name": "stdout",
          "text": [
            "[1, 2, 3]\n",
            "[1, 2, 3, 4]\n",
            "[1, 1, 1, 1, 1, 1]\n"
          ]
        }
      ]
    },
    {
      "cell_type": "markdown",
      "source": [
        "7. Define a function to check if the element exists in the list or not.\n",
        "\n",
        "def   chk_elm(lst, n):\n",
        "\n",
        "\"\"\"\n",
        ">>> a = [ [1,[2]], 3, [ [4], [5,[6] ] ]   ]\n",
        "\n",
        ">>> chk_elm (a, 6)\n",
        "\n",
        "True\n",
        "\"\"\"\n"
      ],
      "metadata": {
        "id": "fM51_bW4nEFt"
      }
    },
    {
      "cell_type": "code",
      "source": [
        "def chk_elm(lst, n):\n",
        "\n",
        "    # Check if the element exists in the list\n",
        "    if n in lst:\n",
        "        return True\n",
        "    else:\n",
        "        # Iterate through the list to check for nested lists\n",
        "        for item in lst:\n",
        "            if isinstance(item, list):\n",
        "                if chk_elm(item, n):\n",
        "                    return True\n",
        "    return False\n",
        "\n",
        "\n",
        "a = [ [1,[2]], 3, [ [4], [5,[6] ] ] ]\n",
        "print(chk_elm(a, 6))\n"
      ],
      "metadata": {
        "colab": {
          "base_uri": "https://localhost:8080/"
        },
        "id": "wGojeTS8oJEv",
        "outputId": "8e90f1be-1c36-4fde-e290-6af967b6428d"
      },
      "execution_count": null,
      "outputs": [
        {
          "output_type": "stream",
          "name": "stdout",
          "text": [
            "True\n"
          ]
        }
      ]
    },
    {
      "cell_type": "markdown",
      "source": [
        "8. Write a function to check whether the input argument list is symmetric or not in recursive call.\n",
        "\n",
        "def sym(l):\n",
        "\n",
        "    \"\"\"Returns whether a list is symmetric or not\n",
        "\n",
        "    >>> sym ([])\n",
        "\n",
        "    True\n",
        "\n",
        "    >>> sym ([1])\n",
        "\n",
        "    True\n",
        "\n",
        "    >>> sym ([1, 4, 5, 1])\n",
        "\n",
        "    False\n",
        "\n",
        "    >>> sym ([1, 4, 4, 1])\n",
        "\n",
        "    True\n",
        "\n",
        "    >>> sym (['l', 'o', 'l'])\n",
        "    \n",
        "    True\n",
        "    \"\"\"\n"
      ],
      "metadata": {
        "id": "EG1GJhUQpAMi"
      }
    },
    {
      "cell_type": "code",
      "source": [
        "def sym(l):\n",
        "\n",
        "    # Base cases for an empty list or a list with one element\n",
        "    if len(l) <= 1:\n",
        "        return True\n",
        "    # Check if the first and last elements are the same\n",
        "    if l[0] == l[-1]:\n",
        "        # Recursively check the sublist excluding the first and last elements\n",
        "        return sym(l[1:-1])\n",
        "    else:\n",
        "        return False\n",
        "\n",
        "# Test cases\n",
        "print(sym([]))\n",
        "print(sym([1]))\n",
        "print(sym([1, 4, 5, 1]))\n",
        "print(sym([1, 4, 4, 1]))\n",
        "print(sym(['l', 'o', 'l']))\n"
      ],
      "metadata": {
        "colab": {
          "base_uri": "https://localhost:8080/"
        },
        "id": "R9JACltWo-io",
        "outputId": "75bb1b70-fab1-4607-8c7e-dd2f072d95bc"
      },
      "execution_count": null,
      "outputs": [
        {
          "output_type": "stream",
          "name": "stdout",
          "text": [
            "True\n",
            "True\n",
            "False\n",
            "True\n",
            "True\n"
          ]
        }
      ]
    },
    {
      "cell_type": "markdown",
      "source": [
        "9. Write a function in recursive call that takes in a list lst, a function g, and an initial value m. This function will fold lst starting at the beginning. If lst is [1, 2, 3, 4, 5] then the function g is applied as follows:\n",
        "\n",
        "g (g (g (g (g (m, 1), 2), 3), 4), 5)\n",
        "\n",
        "from operator import add, sub, mul\n",
        "\n",
        "def fld (lst, g, m):\n",
        "\"\"\"Return the result of applying the function g to the initial value m     and the first element in lst, and repeatedly applying g to this result and the next element in lst until it reaches the end of the list.\n",
        "\n",
        "    >>> s = [3, 2, 1]\n",
        "    >>> fld (s, sub, 0)      \t# sub(sub(sub(0, 3), 2), 1)\n",
        "    -6\n",
        "    >>> fld (s, add, 0)      \t# add(add(add(0, 3), 2), 1)\n",
        "    6\n",
        "    >>> fld (s, mul, 1)      \t# mul(mul(mul(1, 3), 2), 1)\n",
        "    6\n",
        "\n",
        "    >>> fld ([], sub, 100)   \t# return m if s is empty\n",
        "    100\n",
        "    \"\"\"\n"
      ],
      "metadata": {
        "id": "uy-nk1DkpPoh"
      }
    },
    {
      "cell_type": "code",
      "source": [
        "from operator import add, sub, mul\n",
        "\n",
        "def fld(lst, g, m):\n",
        "    \"\"\"\n",
        "    Return the result of applying the function g to the initial value m\n",
        "    and the first element in lst, and repeatedly applying g to this result\n",
        "    and the next element in lst until it reaches the end of the list.\n",
        "\n",
        "    Args:\n",
        "    - lst: The list to be folded.\n",
        "    - g: The function to apply to the initial value and each element.\n",
        "    - m: The initial value.\n",
        "\n",
        "    Returns:\n",
        "    - The folded result.\n",
        "\n",
        "    Examples:\n",
        "    >>> s = [3, 2, 1]\n",
        "    >>> fld(s, sub, 0)    # sub(sub(sub(0, 3), 2), 1)\n",
        "    -6\n",
        "    >>> fld(s, add, 0)    # add(add(add(0, 3), 2), 1)\n",
        "    6\n",
        "    >>> fld(s, mul, 1)    # mul(mul(mul(1, 3), 2), 1)\n",
        "    6\n",
        "    >>> fld([], sub, 100) # return m if s is empty\n",
        "    100\n",
        "    \"\"\"\n",
        "    if not lst:\n",
        "        return m\n",
        "    return g(fld(lst[1:], g, m), lst[0])\n",
        "\n",
        "# Test cases\n",
        "s = [3, 2, 1]\n",
        "print(fld(s, sub, 0))   # -6\n",
        "print(fld(s, add, 0))   # 6\n",
        "print(fld(s, mul, 1))   # 6\n",
        "print(fld([], sub, 100))# 100\n"
      ],
      "metadata": {
        "colab": {
          "base_uri": "https://localhost:8080/"
        },
        "id": "0_0BBb5lplrC",
        "outputId": "75821be5-3f49-4a55-d252-73168b2b8d07"
      },
      "execution_count": null,
      "outputs": [
        {
          "output_type": "stream",
          "name": "stdout",
          "text": [
            "-6\n",
            "6\n",
            "6\n",
            "100\n"
          ]
        }
      ]
    },
    {
      "cell_type": "markdown",
      "source": [
        "10. Implement a function to create 2D array as follows\n",
        "\n",
        "def   crte_2d_arr(rows, columns):\n",
        "    \"\"\"\n",
        "    >>> crte_2d_arr(3, 5)\n",
        "    [['-', '-', '-', '-', '-'], ['-', '-', '-', '-', '-'], ['-', '-', '-', '-', '-']]\n",
        "\n"
      ],
      "metadata": {
        "id": "n193sCtRp9iJ"
      }
    },
    {
      "cell_type": "code",
      "source": [
        "def crte_2d_arr(rows, columns):\n",
        "    \"\"\"\n",
        "    Creates a 2D array with the specified number of rows and columns, filled with '-'.\n",
        "\n",
        "    Args:\n",
        "    - rows: The number of rows in the 2D array.\n",
        "    - columns: The number of columns in the 2D array.\n",
        "\n",
        "    Returns:\n",
        "    - A 2D array (list of lists) filled with '-'.\n",
        "\n",
        "    Examples:\n",
        "    >>> crte_2d_arr(3, 5)\n",
        "    [['-', '-', '-', '-', '-'], ['-', '-', '-', '-', '-'], ['-', '-', '-', '-', '-']]\n",
        "    \"\"\"\n",
        "    return [['-' for _ in range(columns)] for _ in range(rows)]\n",
        "\n",
        "# Test case\n",
        "print(crte_2d_arr(3, 5))\n"
      ],
      "metadata": {
        "colab": {
          "base_uri": "https://localhost:8080/"
        },
        "id": "jwWEoR-dqGpQ",
        "outputId": "42908623-f6c3-4dbe-e9ed-1cf0659fa9fe"
      },
      "execution_count": null,
      "outputs": [
        {
          "output_type": "stream",
          "name": "stdout",
          "text": [
            "[['-', '-', '-', '-', '-'], ['-', '-', '-', '-', '-'], ['-', '-', '-', '-', '-']]\n"
          ]
        }
      ]
    }
  ]
}