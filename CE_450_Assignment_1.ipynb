{
  "nbformat": 4,
  "nbformat_minor": 0,
  "metadata": {
    "colab": {
      "provenance": [],
      "include_colab_link": true
    },
    "kernelspec": {
      "name": "python3",
      "display_name": "Python 3"
    },
    "language_info": {
      "name": "python"
    }
  },
  "cells": [
    {
      "cell_type": "markdown",
      "metadata": {
        "id": "view-in-github",
        "colab_type": "text"
      },
      "source": [
        "<a href=\"https://colab.research.google.com/github/RaThapa/CS-450/blob/main/CE_450_Assignment_1.ipynb\" target=\"_parent\"><img src=\"https://colab.research.google.com/assets/colab-badge.svg\" alt=\"Open In Colab\"/></a>"
      ]
    },
    {
      "cell_type": "markdown",
      "source": [
        "#1. Build up a function to implement the following operation.\n",
        "def if_function(condition, true_result, false_result):\n",
        "\n",
        "\"\"\"Return true_result if condition is a true value, and\n",
        "\n",
        "false_result otherwise.\n",
        "\n",
        ">>> if_function(True, 2, 3)2\n",
        "\n",
        ">>> if_function(False, 2, 3)3\n",
        "\n",
        ">>> if_function(3==2, 3+2, 3-2)1\n",
        "\n",
        ">>> if_function(3>2, 3+2, 3-2)5"
      ],
      "metadata": {
        "id": "bkOhdy3PzG_E"
      }
    },
    {
      "cell_type": "code",
      "source": [
        "def if_function(condition, true_result, false_result):\n",
        "    if condition:\n",
        "        return true_result\n",
        "    else:\n",
        "        return false_result\n",
        "\n",
        "# Test cases\n",
        "print(if_function(True, 2, 3))        # Output: 2\n",
        "print(if_function(False, 2, 3))       # Output: 3\n",
        "print(if_function(3 == 2, 3 + 2, 3 - 2))   # Output: 1\n",
        "print(if_function(3 > 2, 3 + 2, 3 - 2))    # Output: 5\n"
      ],
      "metadata": {
        "colab": {
          "base_uri": "https://localhost:8080/"
        },
        "id": "dLcN8VHVzP3a",
        "outputId": "069672f6-3a74-4432-8bf2-8d3ce49da08b"
      },
      "execution_count": null,
      "outputs": [
        {
          "output_type": "stream",
          "name": "stdout",
          "text": [
            "2\n",
            "3\n",
            "1\n",
            "5\n"
          ]
        }
      ]
    },
    {
      "cell_type": "markdown",
      "source": [
        "#2. Create a function to add odd numbers less equal than numeric input parameter together\n",
        "as follows\n",
        "\"\"\"\n",
        "\n",
        ">>> sum_odd(6)\n",
        "1+3+5= 9\n",
        "\n",
        ">>>sum_odd(7)\n",
        "1+3+5+7= 16\n",
        "\n",
        "\"\"\"\n"
      ],
      "metadata": {
        "id": "kPaInfH4zZ67"
      }
    },
    {
      "cell_type": "code",
      "source": [
        "def sum_odd(n):\n",
        "    return sum(i for i in range(1, n + 1, 2))\n",
        "\n",
        "# Test cases\n",
        "print(sum_odd(6))   # Output: 9 (1 + 3 + 5)\n",
        "print(sum_odd(7))   # Output: 16 (1 + 3 + 5 + 7)\n"
      ],
      "metadata": {
        "colab": {
          "base_uri": "https://localhost:8080/"
        },
        "id": "BJ_JZsDCJiSw",
        "outputId": "bf851339-406c-4ec9-b980-e86e633b00b3"
      },
      "execution_count": null,
      "outputs": [
        {
          "output_type": "stream",
          "name": "stdout",
          "text": [
            "9\n",
            "16\n"
          ]
        }
      ]
    },
    {
      "cell_type": "code",
      "source": [
        "def sum_odd(n):\n",
        "    total = 0  # Initialize a variable to store the sum of odd numbers\n",
        "    # Iterate over the range from 1 to n (inclusive) with a step size of 2\n",
        "    # (to consider only odd numbers)\n",
        "    for i in range(1, n + 1, 2):\n",
        "        total += i  # Add the current odd number to the total sum\n",
        "    return total  # Return the total sum\n",
        "\n",
        "# Test cases\n",
        "print(sum_odd(6))   # Output: 1 + 3 + 5 = 9\n",
        "print(sum_odd(7))   # Output: 1 + 3 + 5 + 7 = 16\n"
      ],
      "metadata": {
        "colab": {
          "base_uri": "https://localhost:8080/"
        },
        "id": "jLatN0q9104H",
        "outputId": "c434beba-92f1-4fcb-de0f-6763eb7124f9"
      },
      "execution_count": null,
      "outputs": [
        {
          "output_type": "stream",
          "name": "stdout",
          "text": [
            "9\n",
            "16\n"
          ]
        }
      ]
    },
    {
      "cell_type": "markdown",
      "source": [
        "# 3. Define a function for 4 inputs a, b, c, d, and return sum of square of two smallest\n",
        "number from a, b, c and d, such as\n",
        "\"\"\"\n",
        ">>> foo(1, 2, 3, 4)\n",
        ">>> 5 # 1^2 + 2^2 = 5\n",
        "\n",
        "\n",
        ">>> foo(-3, 1, 5, 6)\n",
        ">>> 10 # ( ― 3)^2 + 1^2 = 10\n",
        "\"\"\"\n"
      ],
      "metadata": {
        "id": "l0GsNwdgz2Gz"
      }
    },
    {
      "cell_type": "code",
      "source": [
        "def foo(a, b, c, d):\n",
        "    numbers = sorted([a, b, c, d])\n",
        "    return numbers[0]**2 + numbers[1]**2\n",
        "\n",
        "# Test cases\n",
        "print(foo(1, 2, 3, 4))   # Output: 5 (1^2 + 2^2)\n",
        "print(foo(-3, 1, 5, 6))   # Output: 10 ((-3)^2 + 1^2)\n"
      ],
      "metadata": {
        "id": "x63IdpkIJwLl"
      },
      "execution_count": null,
      "outputs": []
    },
    {
      "cell_type": "code",
      "source": [
        "def foo(a, b, c, d):\n",
        "    # Put all the numbers in a list for easier comparison\n",
        "    numbers = [a, b, c, d]\n",
        "    # Sort the list to find the smallest two numbers\n",
        "    numbers.sort()\n",
        "    # Square the smallest two numbers and return their sum\n",
        "    return numbers[0] ** 2 + numbers[1] ** 2\n",
        "\n",
        "# Test cases\n",
        "print(foo(1, 2, 3, 4))   # Output: 5 (1^2 + 2^2 = 5)\n",
        "print(foo(-3, 1, 5, 6))  # Output: 10 ((-3)^2 + 1^2 = 10)\n"
      ],
      "metadata": {
        "colab": {
          "base_uri": "https://localhost:8080/"
        },
        "id": "EnjLltaR2RM3",
        "outputId": "3305e9ab-5aaf-4d52-ddb0-3020e23dad8d"
      },
      "execution_count": null,
      "outputs": [
        {
          "output_type": "stream",
          "name": "stdout",
          "text": [
            "5\n",
            "10\n"
          ]
        }
      ]
    },
    {
      "cell_type": "markdown",
      "source": [
        "#4. Write a function named \"df\" that takes three integers x, y, and z. It returns whether\n",
        "subtracting one of these numbers from another gives the third.\n",
        ">>> df(5, 3, 2) # 5 - 3 is 2 #True\n",
        "\n",
        ">>> df(2, 3, 5) # 5 - 3 is 2 #True\n",
        "\n",
        ">>> df(2, 5, 3) # 5 - 3 is 2 #True\n",
        "\n",
        ">>> df(-2, 3, 5) # 3 - 5 is -2 #True\n",
        "\n",
        ">>> df(-5, -3, -2) # -5 - -2 is -3 #True\n",
        "\n",
        ">>> df(-2, 3, -5) # -2 - 3 is -5 #True\n",
        "\n",
        ">>> df(2, 3, -5) #False\n",
        "\n",
        ">>> df(10, 6, 4) #True\n",
        "\n",
        ">>> df(10, 6, 3) #False"
      ],
      "metadata": {
        "id": "KmluQ0Tdz17m"
      }
    },
    {
      "cell_type": "code",
      "source": [
        "def df(x, y, z):\n",
        "    return (x - y == z) or (y - x == z) or (x - z == y) or (z - x == y) or (y - z == x) or (z - y == x)\n",
        "\n",
        "# Test cases\n",
        "print(df(5, 3, 2))    # Output: True\n",
        "print(df(2, 3, 5))    # Output: True\n",
        "print(df(2, 5, 3))    # Output: True\n",
        "print(df(-2, 3, 5))   # Output: True\n",
        "print(df(-5, -3, -2)) # Output: True\n",
        "print(df(-2, 3, -5))  # Output: True\n",
        "print(df(2, 3, -5))   # Output: False\n",
        "print(df(10, 6, 4))   # Output: True\n",
        "print(df(10, 6, 3))   # Output: False\n"
      ],
      "metadata": {
        "colab": {
          "base_uri": "https://localhost:8080/"
        },
        "id": "w1YvE7ONKBGm",
        "outputId": "f8ed672c-a4fd-4a2b-c41e-a78c514fed83"
      },
      "execution_count": null,
      "outputs": [
        {
          "output_type": "stream",
          "name": "stdout",
          "text": [
            "True\n",
            "True\n",
            "True\n",
            "True\n",
            "True\n",
            "True\n",
            "False\n",
            "True\n",
            "False\n"
          ]
        }
      ]
    },
    {
      "cell_type": "code",
      "source": [
        "def df(x, y, z):\n",
        "    # Check all possible combinations of subtracting one number from another\n",
        "    if x - y == z or y - x == z:\n",
        "        return True\n",
        "    elif x - z == y or z - x == y:\n",
        "        return True\n",
        "    elif y - z == x or z - y == x:\n",
        "        return True\n",
        "    else:\n",
        "        return False\n",
        "\n",
        "# Test cases\n",
        "print(df(5, 3, 2))   # Output: True\n",
        "print(df(2, 3, 5))   # Output: True\n",
        "print(df(2, 5, 3))   # Output: True\n",
        "print(df(-2, 3, 5))  # Output: True\n",
        "print(df(-5, -3, -2))    # Output: True\n",
        "print(df(-2, 3, -5)) # Output: True\n",
        "print(df(2, 3, -5))  # Output: False\n",
        "print(df(10, 6, 4))  # Output: True\n",
        "print(df(10, 6, 3))  # Output: False\n"
      ],
      "metadata": {
        "colab": {
          "base_uri": "https://localhost:8080/"
        },
        "id": "jSUfg4Mh3Y2p",
        "outputId": "547b91d8-8439-401a-cbe6-a5dc566b1369"
      },
      "execution_count": null,
      "outputs": [
        {
          "output_type": "stream",
          "name": "stdout",
          "text": [
            "True\n",
            "True\n",
            "True\n",
            "True\n",
            "True\n",
            "True\n",
            "False\n",
            "True\n",
            "False\n"
          ]
        }
      ]
    },
    {
      "cell_type": "markdown",
      "source": [
        "#5. Create a function that takes an integer m greater than 1 and returns the largest integer smaller than m that evenly divides m.\n",
        "def lrgst_factor(m):\n",
        "\n",
        "\"\"\"Return the largest factor of n that is smaller than n.\n",
        ">>> lrgst_factor (15) # factors are 1, 3, 5\n",
        "\n",
        "5\n",
        "\n",
        "\n",
        ">>> lrgst_factor (80) # factors are 1, 2, 4, 5, 8, 10, 16, 20, 40\n",
        "\n",
        "40\n",
        "\"\"\""
      ],
      "metadata": {
        "id": "fWiNJDtl3YY7"
      }
    },
    {
      "cell_type": "code",
      "source": [
        "def lrgst_factor(m):\n",
        "    return next(i for i in range(m - 1, 0, -1) if m % i == 0)\n",
        "\n",
        "# Test cases\n",
        "print(lrgst_factor(15))  # Output: 5\n",
        "print(lrgst_factor(80))  # Output: 40\n"
      ],
      "metadata": {
        "colab": {
          "base_uri": "https://localhost:8080/"
        },
        "id": "8ogL4vWnKOVw",
        "outputId": "7867a009-3f6d-4526-a354-b3aea5da2c35"
      },
      "execution_count": null,
      "outputs": [
        {
          "output_type": "stream",
          "name": "stdout",
          "text": [
            "5\n",
            "40\n"
          ]
        }
      ]
    },
    {
      "cell_type": "code",
      "source": [
        "def lrgst_factor(m):\n",
        "    largest_factor = 1  # Initialize the largest factor to 1\n",
        "    # Iterate over numbers from 2 to m-1\n",
        "    for i in range(2, m):\n",
        "        # Check if i divides m evenly\n",
        "        if m % i == 0:\n",
        "            largest_factor = i  # Update largest_factor if i is a factor of m\n",
        "    return largest_factor\n",
        "\n",
        "# Test cases\n",
        "print(lrgst_factor(15))  # Output: 5\n",
        "print(lrgst_factor(80))  # Output: 40\n"
      ],
      "metadata": {
        "colab": {
          "base_uri": "https://localhost:8080/"
        },
        "id": "Mdz_l1v74ZXE",
        "outputId": "31d056f2-b877-4294-bb36-3b70b665a0ce"
      },
      "execution_count": null,
      "outputs": [
        {
          "output_type": "stream",
          "name": "stdout",
          "text": [
            "5\n",
            "40\n"
          ]
        }
      ]
    },
    {
      "cell_type": "markdown",
      "source": [
        "#6. Define a function which takes in a number n and determines whether the number is a perfect number. A perfect number is equal to the sum of its factors. For instance, 6 is a\n",
        "perfect number since 6 = 1 + 2 + 3.\n",
        "\n",
        "def pfct_num(m):\n",
        "\n",
        "\n",
        "\"\"\"\n",
        "Returns True or False indicating whether \"n\" is a perfect\n",
        "number. A number is a perfect number when the sum of all its\n",
        "factors equal the number itself.\n",
        "\n",
        ">>> pfct_num (6)\n",
        "True\n",
        "\n",
        "\n",
        ">>> pfct_num (8)\n",
        "False\n",
        "\n",
        "\n",
        ">>> pfct_num (28)\n",
        "True\n"
      ],
      "metadata": {
        "id": "cul4bOmK4bLp"
      }
    },
    {
      "cell_type": "code",
      "source": [
        "def pfct_num(n):\n",
        "    # Calculate the sum of factors of n\n",
        "    factor_sum = sum(i for i in range(1, n) if n % i == 0)\n",
        "    # Check if the sum of factors equals n\n",
        "    return factor_sum == n\n",
        "\n",
        "# Test cases\n",
        "print(pfct_num(6))   # Output: True\n",
        "print(pfct_num(8))   # Output: False\n",
        "print(pfct_num(28))  # Output: True\n"
      ],
      "metadata": {
        "colab": {
          "base_uri": "https://localhost:8080/"
        },
        "id": "4USARRTk5PcK",
        "outputId": "66e53710-37a5-4b63-9654-4ace27c777cb"
      },
      "execution_count": null,
      "outputs": [
        {
          "output_type": "stream",
          "name": "stdout",
          "text": [
            "True\n",
            "False\n",
            "True\n"
          ]
        }
      ]
    },
    {
      "cell_type": "markdown",
      "source": [
        "7. Implement a function to check if the number of bits from two positive input parameters is\n",
        "the same or not.\n",
        "def same_ord(a, b):\n",
        "\"\"\"Return whether positive integers a and b have the same number of\n",
        "digits.\n",
        ">>> same_ord(50, 70) # 2 bits of a and b\n",
        "True\n",
        ">>> same_ord(50, 100) # a is 2 bits; b is 3 bits\n",
        "False\n",
        ">>> same_ord(1000, 100000) # a is 4 bits; b is 6 bits\n",
        "False\n",
        "\"\"\""
      ],
      "metadata": {
        "id": "ZLI0ERUEz1xB"
      }
    },
    {
      "cell_type": "code",
      "source": [
        "def same_ord(a, b):\n",
        "    return len(str(a)) == len(str(b))\n",
        "\n",
        "# Test cases\n",
        "print(same_ord(50, 70))        # Output: True\n",
        "print(same_ord(50, 100))       # Output: False\n",
        "print(same_ord(1000, 100000))  # Output: False\n"
      ],
      "metadata": {
        "colab": {
          "base_uri": "https://localhost:8080/"
        },
        "id": "KB_jmCBnNTcg",
        "outputId": "e7d4529e-9859-4944-bf99-1a725cfc368f"
      },
      "execution_count": null,
      "outputs": [
        {
          "output_type": "stream",
          "name": "stdout",
          "text": [
            "True\n",
            "False\n",
            "False\n"
          ]
        }
      ]
    },
    {
      "cell_type": "code",
      "source": [
        "def same_ord(a, b):\n",
        "    # Count the number of bits in a and b\n",
        "    num_bits_a = len(bin(a)[2:])\n",
        "    num_bits_b = len(bin(b)[2:])\n",
        "    # Check if the number of bits is the same for both numbers\n",
        "    return num_bits_a == num_bits_b\n",
        "\n",
        "# Test cases\n",
        "print(same_ord(50, 70))      # Output: True\n",
        "print(same_ord(50, 100))     # Output: False\n",
        "print(same_ord(1000, 100000))# Output: False\n"
      ],
      "metadata": {
        "colab": {
          "base_uri": "https://localhost:8080/"
        },
        "id": "UUxFzOBf5YEU",
        "outputId": "504d8d4f-ec42-4925-bf02-277197a216fe"
      },
      "execution_count": null,
      "outputs": [
        {
          "output_type": "stream",
          "name": "stdout",
          "text": [
            "False\n",
            "False\n",
            "False\n"
          ]
        }
      ]
    },
    {
      "cell_type": "markdown",
      "source": [
        "8.Write a function that takes in a number and determines if the digits contain two adjacent 5s.\n",
        "def double_5(n):\n",
        "\"\"\"Return true if n has two fives in a row.\n",
        ">>> double_5 (5)\n",
        "False\n",
        ">>> double_5 (55)\n",
        "True\n",
        ">>> double_5 (550055)\n",
        "True\n",
        ">>> double_5 (12345)\n",
        "False\n",
        ">>> double_5 (50505050)\n",
        "False\n",
        "\"\"\""
      ],
      "metadata": {
        "id": "CD8UhKB9z1iF"
      }
    },
    {
      "cell_type": "code",
      "source": [
        "def double_5(n):\n",
        "    # Convert the number to a string\n",
        "    n_str = str(n)\n",
        "    # Iterate over the characters in the string\n",
        "    for i in range(len(n_str) - 1):\n",
        "        # Check if the current character and the next character are both '5'\n",
        "        if n_str[i] == '5' and n_str[i+1] == '5':\n",
        "            return True\n",
        "    return False\n",
        "\n",
        "# Test cases\n",
        "print(double_5(5))          # Output: False\n",
        "print(double_5(55))         # Output: True\n",
        "print(double_5(550055))     # Output: True\n",
        "print(double_5(12345))      # Output: False\n",
        "print(double_5(50505050))   # Output: False\n"
      ],
      "metadata": {
        "colab": {
          "base_uri": "https://localhost:8080/"
        },
        "id": "2HMVThc_5rnJ",
        "outputId": "4679f2db-ffd3-426b-8f8a-21e512e550d9"
      },
      "execution_count": null,
      "outputs": [
        {
          "output_type": "stream",
          "name": "stdout",
          "text": [
            "False\n",
            "True\n",
            "True\n",
            "False\n",
            "False\n"
          ]
        }
      ]
    },
    {
      "cell_type": "markdown",
      "source": [
        "9. Design a function that returns the number of unique digits in a positive integer.\n",
        "def uniq_digits(x):\n",
        "\"\"\"Return the number of unique digits in positive integer n\n",
        ">>> uniq_digits (8675309) # All are unique\n",
        "7\n",
        ">>> uniq_digits (1313131) # 1 and 3\n",
        "2\n",
        ">>> uniq_digits (13173131) # 1, 3, and 7\n",
        "3\n",
        ">>> uniq_digits (10000) # 0 and 1\n",
        "2\n",
        ">>> uniq_digits (101) # 0 and 1\n",
        "2\n",
        ">>> uniq_digits (10) # 0 and 1\n",
        "2\n",
        "\"\"\""
      ],
      "metadata": {
        "id": "nVYY7EnO5x1y"
      }
    },
    {
      "cell_type": "code",
      "source": [
        "def uniq_digits(x):\n",
        "    return len(set(str(x)))\n",
        "\n",
        "# Test cases\n",
        "print(uniq_digits(8675309))    # Output: 7\n",
        "print(uniq_digits(1313131))    # Output: 2\n",
        "print(uniq_digits(13173131))   # Output: 3\n",
        "print(uniq_digits(10000))      # Output: 2\n",
        "print(uniq_digits(101))        # Output: 2\n",
        "print(uniq_digits(10))         # Output: 2\n",
        "#convert the number to a string, then create a set from its characters to get unique digits, and finally return the length of the set."
      ],
      "metadata": {
        "id": "0_bYXoKmOrNe"
      },
      "execution_count": null,
      "outputs": []
    },
    {
      "cell_type": "code",
      "source": [
        "def uniq_digits(x):\n",
        "    # Convert the integer to a string\n",
        "    x_str = str(x)\n",
        "    # Use a set to store unique digits\n",
        "    unique_digits = set(x_str)\n",
        "    # Return the number of unique digits\n",
        "    return len(unique_digits)\n",
        "\n",
        "# Test cases\n",
        "print(uniq_digits(8675309))    # Output: 7\n",
        "print(uniq_digits(1313131))    # Output: 2\n",
        "print(uniq_digits(13173131))   # Output: 3\n",
        "print(uniq_digits(10000))      # Output: 2\n",
        "print(uniq_digits(101))        # Output: 2\n",
        "print(uniq_digits(10))         # Output: 2\n"
      ],
      "metadata": {
        "colab": {
          "base_uri": "https://localhost:8080/"
        },
        "id": "DvFY9H8k5918",
        "outputId": "2fcd08bb-f67b-48e1-efbe-66e28cffd247"
      },
      "execution_count": null,
      "outputs": [
        {
          "output_type": "stream",
          "name": "stdout",
          "text": [
            "7\n",
            "2\n",
            "3\n",
            "2\n",
            "2\n",
            "2\n"
          ]
        }
      ]
    },
    {
      "cell_type": "markdown",
      "source": [
        "0. Write a def function \"amc\" with a positive integer \"n\" input parameter. It returns the\n",
        "smallest amicable number greater than \"n\". Two different numbers are both amicable\n",
        "if the sum of the proper divisors of each is equal to the other. Any number that's part of\n",
        "such a pair is an amicable number.\n",
        "*Hint: You may want to create a separate function to sum proper divisors.\n",
        "def amc(n):\n",
        "\"\"\"\n",
        "Return the smallest amicable number greater than positive integer n.\n",
        "Every amicable number x has a buddy y different from x, such that\n",
        "the sum of the proper divisors of x equals y, and\n",
        "the sum of the proper divisors of y equals x.\n",
        "For example, 220 and 284 are both amicable because\n",
        "1 + 2 + 4 + 5 + 10 + 11 + 20 + 22 + 44 + 55 + 110 is 284, and\n",
        "1 + 2 + 4 + 71 + 142 is 220\n",
        ">>> amc(5)\n",
        "220\n",
        ">>> amc(220)\n",
        "284\n",
        ">>> amc(284)\n",
        "1184\n",
        ">>> r = amc(5000)\n",
        ">>> r\n",
        "5020\n",
        "\"\"\"\n"
      ],
      "metadata": {
        "id": "1JjbvVEbz1GE"
      }
    },
    {
      "cell_type": "code",
      "source": [
        "def amc(n):\n",
        "    # Inner function to calculate the sum of proper divisors of a number x\n",
        "    def sum_proper_divisors(x):\n",
        "        return sum(i for i in range(1, x) if x % i == 0)\n",
        "\n",
        "    # Inner function to check if a number x is amicable\n",
        "    def is_amicable(x):\n",
        "        # Calculate the sum of proper divisors of x\n",
        "        sum_div_x = sum_proper_divisors(x)\n",
        "        # Check if x is different from the sum of proper divisors of x\n",
        "        # and if the sum of proper divisors of the sum is equal to x\n",
        "        return x != sum_div_x and sum_proper_divisors(sum_div_x) == x\n",
        "\n",
        "    # Find the smallest amicable number greater than n\n",
        "    while True:\n",
        "        n += 1\n",
        "        # Check if the incremented n is amicable\n",
        "        if is_amicable(n):\n",
        "            # Return the amicable number\n",
        "            return n\n",
        "\n",
        "# Test cases\n",
        "print(amc(5))      # Output: 220\n",
        "print(amc(220))    # Output: 284\n",
        "print(amc(284))    # Output: 1184\n",
        "print(amc(5000))   # Output: 5020\n"
      ],
      "metadata": {
        "colab": {
          "base_uri": "https://localhost:8080/"
        },
        "id": "0vCpra-FPDcb",
        "outputId": "99726a9d-5aeb-477b-e91f-b5f591c5c91c"
      },
      "execution_count": null,
      "outputs": [
        {
          "output_type": "stream",
          "name": "stdout",
          "text": [
            "220\n",
            "284\n",
            "1184\n",
            "5020\n"
          ]
        }
      ]
    }
  ]
}