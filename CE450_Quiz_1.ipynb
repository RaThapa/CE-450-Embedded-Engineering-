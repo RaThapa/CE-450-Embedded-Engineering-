{
  "nbformat": 4,
  "nbformat_minor": 0,
  "metadata": {
    "colab": {
      "provenance": [],
      "authorship_tag": "ABX9TyNe7bU1Oo0tHxl2k9NGzkRa",
      "include_colab_link": true
    },
    "kernelspec": {
      "name": "python3",
      "display_name": "Python 3"
    },
    "language_info": {
      "name": "python"
    }
  },
  "cells": [
    {
      "cell_type": "markdown",
      "metadata": {
        "id": "view-in-github",
        "colab_type": "text"
      },
      "source": [
        "<a href=\"https://colab.research.google.com/github/RaThapa/CS-450/blob/main/CE450_Quiz_1.ipynb\" target=\"_parent\"><img src=\"https://colab.research.google.com/assets/colab-badge.svg\" alt=\"Open In Colab\"/></a>"
      ]
    },
    {
      "cell_type": "markdown",
      "source": [
        "Rasila Thapa (19990)\n",
        "\n",
        "\n",
        "#Complete the following program in lambda function based on the function requirements.\n",
        "from operator import add, neg\n",
        "\"\"\"\n",
        "F = f(add)\n",
        "\n",
        "\n",
        "g = F(abs, neg)\n",
        "\n",
        "\n",
        "print(g(-123))\n",
        "\n",
        "\n",
        "\n",
        "246\n",
        "\"\"\"\n"
      ],
      "metadata": {
        "id": "UO-eNEdO1LAs"
      }
    },
    {
      "cell_type": "code",
      "execution_count": 7,
      "metadata": {
        "colab": {
          "base_uri": "https://localhost:8080/"
        },
        "id": "l5g31ZbH1D98",
        "outputId": "70684e11-03e2-4295-a311-0adbdb3948a2"
      },
      "outputs": [
        {
          "output_type": "stream",
          "name": "stdout",
          "text": [
            "246\n"
          ]
        }
      ],
      "source": [
        "from operator import add, neg\n",
        "\n",
        "# function F lambda function\n",
        "F = lambda F: lambda x: F(abs(x), neg(x))\n",
        "\n",
        "# function g uses F with abs and neg\n",
        "g = F(add)\n",
        "\n",
        "\n",
        "print(g(-123))\n"
      ]
    },
    {
      "cell_type": "code",
      "source": [],
      "metadata": {
        "id": "Ya7USdxP2Se1"
      },
      "execution_count": null,
      "outputs": []
    }
  ]
}