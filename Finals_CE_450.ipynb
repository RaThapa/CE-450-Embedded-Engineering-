{
  "nbformat": 4,
  "nbformat_minor": 0,
  "metadata": {
    "colab": {
      "provenance": [],
      "authorship_tag": "ABX9TyM0DboBiqDrDN8Tu7v1vJBo",
      "include_colab_link": true
    },
    "kernelspec": {
      "name": "python3",
      "display_name": "Python 3"
    },
    "language_info": {
      "name": "python"
    }
  },
  "cells": [
    {
      "cell_type": "markdown",
      "metadata": {
        "id": "view-in-github",
        "colab_type": "text"
      },
      "source": [
        "<a href=\"https://colab.research.google.com/github/RaThapa/CE-450-Embedded-Engineering-/blob/main/Finals_CE_450.ipynb\" target=\"_parent\"><img src=\"https://colab.research.google.com/assets/colab-badge.svg\" alt=\"Open In Colab\"/></a>"
      ]
    },
    {
      "cell_type": "markdown",
      "source": [
        "1.\tWrite a function as a decorator of other function calls for the following operations.\n",
        "\n",
        "def  trc1(g):\n",
        " \t\t\t \"\"\" YOUR SOURCE CODE HRER \"\"\"\n",
        "\n",
        "\n",
        "\n",
        "\n",
        "@trc1\n",
        "def  sqr(x):\n",
        "    return x*x\n",
        "\n",
        "@trc1\n",
        "def  sum_sqr(n):\n",
        "  \t\t\t\"\"\" YOUR SOURCE CODE HRER \"\"\"\n",
        "\n",
        "\n",
        "\n",
        "\n",
        "\n",
        ">>> sqr(3)\n",
        "Calling <function sqr at 0x7f73e7ce8620> on argument 3\n",
        "9\t\t\t\t# 9 = 3^2\n",
        ">>> sum_sqr(3)\n",
        "Calling <function sum_sqr at 0x7f73e7c410d0> on argument 3\n",
        "Calling <function sqr at 0x7f73e7c41158> on argument 1\n",
        "Calling <function sqr at 0x7f73e7c41158> on argument 2\n",
        "Calling <function sqr at 0x7f73e7c41158> on argument 3\n",
        "14\t\t\t\t# 14 = 1^2 + 2^2 + 3^2\n",
        "\n",
        "\n",
        "Hint: sqr(3) with a decorator @trc1 will be coming trc1(sqr)(3), likewise sum_sqr(3) should be trc1(sum_sqr)(3)\n",
        "\n"
      ],
      "metadata": {
        "id": "aCeGetVKsqa-"
      }
    },
    {
      "cell_type": "code",
      "execution_count": 3,
      "metadata": {
        "colab": {
          "base_uri": "https://localhost:8080/"
        },
        "id": "SO5IPToQslBV",
        "outputId": "6928af9b-4aaf-4e34-fe46-e8b89b82981e"
      },
      "outputs": [
        {
          "output_type": "stream",
          "name": "stdout",
          "text": [
            "Calling <function sqr at 0x7c57ee2c75b0> on argument 3\n",
            "9\n",
            "Calling <function sum_sqr at 0x7c57ee2c76d0> on argument 3\n",
            "Calling <function sqr at 0x7c57ee2c75b0> on argument 1\n",
            "Calling <function sqr at 0x7c57ee2c75b0> on argument 2\n",
            "Calling <function sqr at 0x7c57ee2c75b0> on argument 3\n",
            "14\n"
          ]
        }
      ],
      "source": [
        "def trc1(g):\n",
        "    def wrapper(arg):\n",
        "        print(f\"Calling {g} on argument {arg}\")\n",
        "        return g(arg)\n",
        "    return wrapper\n",
        "\n",
        "#The trc1 decorator takes a function g as input and returns a new function wrapper.\n",
        "#The wrapper function takes an argument arg.\n",
        "#It prints a message indicating that g is being called with the argument arg.\n",
        "#It then calls g with the argument arg and returns the result.\n",
        "\n",
        "@trc1\n",
        "def sqr(x):\n",
        "    return x*x\n",
        "\n",
        "#The trc1 decorator is applied to the sqr and sum_sqr functions.\n",
        "#When sqr is called with an argument, it prints a message indicating the call and then returns the square of the argument.\n",
        "\n",
        "@trc1\n",
        "def sum_sqr(n):\n",
        "    res = 0\n",
        "    for i in range(1, n+1):\n",
        "        res += sqr(i)\n",
        "    return res\n",
        "\n",
        "#When sum_sqr is called with an argument n, it calculates the sum of squares from 1 to n, using the sqr function to calculate the square of each number.\n",
        "\n",
        "print(sqr(3))\n",
        "print(sum_sqr(3))\n"
      ]
    },
    {
      "cell_type": "markdown",
      "source": [
        "2.\tGenerate a function to implement the following operations.\n",
        "\n",
        "def  verify_add(m, ls):\n",
        "\n",
        "    \"\"\"Returns True if addition of any two different elements in ls is m.\n",
        "    >>> verify_add (100, [1, 2, 3, 4, 5])\n",
        "    False\n",
        "    >>> verify_add (7, [1, 2, 3, 4, 2])\n",
        "    True\t\t\t\t# 7 = 3 +4\n",
        "    >>> verify_add (10, [5, 5])\n",
        "    False\n",
        "    >>> verify_add (151, range(0, 200000, 3))\n",
        "    False\n",
        "   \t>>>verify_add(50004, range(0, 200000, 4))\n",
        "    True\t\t\t\t# 50004 = 50000 + 4\n",
        "   \"\"\"\n",
        "    \"\"\" YOUR SOURCE CODE HRER \"\"\"\n"
      ],
      "metadata": {
        "id": "pO93vPD7xQF6"
      }
    },
    {
      "cell_type": "code",
      "source": [
        "def verify_add(m, ls):\n",
        "    # Create a set to store seen numbers\n",
        "    seen = set()\n",
        "    # Iterate through each number in the list\n",
        "    for num in ls:\n",
        "        # Calculate the complement needed to reach m\n",
        "        complement = m - num\n",
        "        # Check if the complement is in the seen set and the current number is different from the complement\n",
        "        if complement in seen and num != complement:\n",
        "            return True  # If a pair is found, return True\n",
        "        seen.add(num)  # Add the current number to the seen set\n",
        "    return False  # If no pair is found, return False\n",
        "\n",
        "# Example\n",
        "print(verify_add(100, [1, 2, 3, 4, 5]))       # False\n",
        "print(verify_add(7, [1, 2, 3, 4, 2]))         # True\n",
        "print(verify_add(10, [5, 5]))                  # False\n",
        "print(verify_add(151, range(0, 200000, 3)))    # False\n",
        "print(verify_add(50004, range(0, 200000, 4)))  # True\n"
      ],
      "metadata": {
        "colab": {
          "base_uri": "https://localhost:8080/"
        },
        "id": "myHrV3RoDk0R",
        "outputId": "f9aa7aa9-cbf7-4663-f2f7-20f1be6cf67c"
      },
      "execution_count": 23,
      "outputs": [
        {
          "output_type": "stream",
          "name": "stdout",
          "text": [
            "False\n",
            "True\n",
            "False\n",
            "False\n",
            "True\n"
          ]
        }
      ]
    },
    {
      "cell_type": "markdown",
      "source": [
        "3.\tWrite a function to implement deep reverse for taking a (possibly deep) tuple argument and reverse it including deep tuple element.\n",
        "\n",
        "def  deep_rvrs(tup):\n",
        "    \"\"\"Reverses tuple with possible tuple elements\n",
        "    >>> a = (11, 12, 13, 14)\n",
        "\t >>> deep_rvrs (a)\n",
        "    (14, 13, 12, 11)\n",
        "    >>>tpl = (11, (12, (13,113), 14), 15)\n",
        "    >>> deep_rvrs (tpl)\n",
        "    (15, (14, (113, 13), 12), 11))\n",
        "    \"\"\"\n",
        "    \"\"\" YOUR SOURCE CODE HRER \"\"\"\n",
        "\n"
      ],
      "metadata": {
        "id": "1mdU_JaE0mLf"
      }
    },
    {
      "cell_type": "code",
      "source": [
        "def deep_rvrs(tup):\n",
        "    # Base case: If `tup` is not a tuple, return it as is\n",
        "    if not isinstance(tup, tuple):\n",
        "        return tup\n",
        "\n",
        "    # Recursive case: Reverse each element of `tup` and construct a new tuple\n",
        "    # using a generator expression\n",
        "    return tuple(deep_rvrs(item) for item in reversed(tup))\n",
        "\n",
        "# Example\n",
        "a = (11, 12, 13, 14)\n",
        "print(deep_rvrs(a))  # (14, 13, 12, 11)\n",
        "\n",
        "tpl = (11, (12, (13, 113), 14), 15)\n",
        "print(deep_rvrs(tpl))  # (15, (14, (113, 13), 12), 11)\n"
      ],
      "metadata": {
        "colab": {
          "base_uri": "https://localhost:8080/"
        },
        "id": "Cpzps3rK1z-7",
        "outputId": "8c35c696-5597-4a66-9d02-ec7f49e09127"
      },
      "execution_count": 12,
      "outputs": [
        {
          "output_type": "stream",
          "name": "stdout",
          "text": [
            "(14, 13, 12, 11)\n",
            "(15, (14, (113, 13), 12), 11)\n"
          ]
        }
      ]
    },
    {
      "cell_type": "markdown",
      "source": [
        "4.\tWrite a Fibonacci class to calculate next number in the 'Fibonacci' class by the\n",
        "'nxt' method. In this class, the 'val' member is a 'Fibonacci' number. The 'nxt' method will return a 'Fibonacci' object whose value is the next number in Fibonacci series.\n",
        "\n",
        "class \tFibonacci ():\n",
        "    \"\"\"A Fibonacci number.\n",
        "\n",
        "    >>> a = Fibonacci():\n",
        "    >>> a\n",
        "    0\n",
        "    >>> a.nxt()\n",
        "    1\n",
        "    >>> a.nxt().nxt()\n",
        "    1\n",
        "    >>> a.nxt().nxt().nxt()\n",
        "    2\n",
        "    >>> a.nxt().nxt().nxt().nxt()\n",
        "    3\n",
        "    >>> a.nxt().nxt().nxt().nxt().nxt()\n",
        "    5\n",
        "    >>> a.nxt().nxt().nxt().nxt().nxt().nxt()\n",
        "    8\n",
        "    \"\"\"\n",
        "    def  __init__(self):\n",
        "        self.val = 0\n",
        "\n",
        "\n",
        "    def  nxt(self):\n",
        "       \"\"\" YOUR SOURCE CODE HRER \"\"\"\n",
        "\n",
        "\n",
        "\n",
        "\n",
        "\n",
        "\n",
        "\n",
        "   def  __repr__(self):\n",
        "        return str(self.val)\n",
        "\n",
        "\n",
        "\n",
        "\n",
        "Hint: A new 'Fibonacci' object is needed to create and assign 'val' and 'pre' members within 'nxt' method.\n"
      ],
      "metadata": {
        "id": "1mEVSNhE2L52"
      }
    },
    {
      "cell_type": "code",
      "source": [
        "class Fib:\n",
        "    def __init__(self):\n",
        "        self.val = 0\n",
        "\n",
        "    def nxt(self):  #The nxt method calculates the next Fibonacci number in the sequence and returns a new Fib object representing that number.\n",
        "        s = Fib()  # Create a new object of Fib class\n",
        "        if self.val == 0:  # Base case\n",
        "            s.pre = 0\n",
        "            s.val = 1\n",
        "        else:\n",
        "            temp = self.val  # Store value of val in a temporary variable\n",
        "            s.val = self.val + self.pre  # Next fibonacci number will be sum of previous two fibonacci numbers\n",
        "            s.pre = temp\n",
        "        return s  # Return new object\n",
        "\n",
        "    def __repr__(self):  #provides a string representation of the Fibonacci number (self.val).\n",
        "        return str(self.val)\n",
        "\n",
        "# Examples\n",
        "a = Fib()\n",
        "print(a)                  # 0\n",
        "print(a.nxt())            # 1\n",
        "print(a.nxt().nxt())      # 1\n",
        "print(a.nxt().nxt().nxt())# 2\n",
        "print(a.nxt().nxt().nxt().nxt()) # 3\n",
        "print(a.nxt().nxt().nxt().nxt().nxt()) # 5\n",
        "print(a.nxt().nxt().nxt().nxt().nxt().nxt()) # 8\n"
      ],
      "metadata": {
        "colab": {
          "base_uri": "https://localhost:8080/"
        },
        "id": "Id4yy3CE6YCq",
        "outputId": "23092fba-e738-4cb7-8df5-62a84548e16a"
      },
      "execution_count": 16,
      "outputs": [
        {
          "output_type": "stream",
          "name": "stdout",
          "text": [
            "0\n",
            "1\n",
            "1\n",
            "2\n",
            "3\n",
            "5\n",
            "8\n"
          ]
        }
      ]
    },
    {
      "cell_type": "markdown",
      "source": [
        "5.\tCreate a class 'Student' first and construct objects with student 'name' and 'number' of course(s) she/he is taking in the current semester. The following operations can be allowed by using magic methods ('dunder' method), such as __add__(), __str__(), __repr__(), __lt__(), __eq__(), __ne__(), and __gt__().\n",
        "\n",
        "class  Student():\n",
        "\t\"\"\"\n",
        ">>> a= Student ('Peter', 3)\n",
        " \t>>> b= Student ('Mike', 4)\n",
        " \t>>> c= Student ('John', 5)\n",
        " \t>>> d= Student ('Kelvin', 3)\n",
        "\n",
        " >>> a+b+d\n",
        "\t10\n",
        " \t>>> a!=d\n",
        "False\n",
        "\t>>> b<c\n",
        " \tTrue\n",
        "\"\"\"\n"
      ],
      "metadata": {
        "id": "nLBTvGa07LPF"
      }
    },
    {
      "cell_type": "code",
      "source": [
        "class Student:\n",
        "    def __init__(self, name, courses):\n",
        "        # Initialize a student with a name and the number of courses\n",
        "        self.name = name\n",
        "        self.courses = courses\n",
        "\n",
        "    def __str__(self):\n",
        "        # Return the string representation of the number of courses\n",
        "        return str(self.courses)\n",
        "\n",
        "    def __repr__(self):\n",
        "        # Return the string representation of the entire student object\n",
        "        return f\"Student('{self.name}', {self.courses})\"\n",
        "\n",
        "    def __add__(self, other):\n",
        "        # Define addition operation for two students\n",
        "        return Student(\"\", self.courses + other.courses)\n",
        "\n",
        "    def __lt__(self, other):\n",
        "        # Define less-than operation based on the number of courses\n",
        "        return self.courses < other.courses\n",
        "\n",
        "    def __eq__(self, other):\n",
        "        # Define equality operation based on the number of courses\n",
        "        return self.courses == other.courses\n",
        "\n",
        "    def __ne__(self, other):\n",
        "        # Define not-equal-to operation based on the number of courses\n",
        "        return self.courses != other.courses\n",
        "\n",
        "    def __gt__(self, other):\n",
        "        # Define greater-than operation based on the number of courses\n",
        "        return self.courses > other.courses\n",
        "\n",
        "# Examples\n",
        "a = Student('Peter', 3)\n",
        "b = Student('Mike', 4)\n",
        "c = Student('John', 5)\n",
        "d = Student('Kelvin', 3)\n",
        "\n",
        "# Test addition operation\n",
        "print(a + b + d)  # Output: 10\n",
        "\n",
        "# Test inequality operation\n",
        "print(a != d)      # Output: False\n",
        "\n",
        "# Test less-than operation\n",
        "print(b < c)       # Output: True\n"
      ],
      "metadata": {
        "colab": {
          "base_uri": "https://localhost:8080/"
        },
        "id": "PqMDWZSw_G_3",
        "outputId": "58b8e6a3-500a-4a93-da0a-4ef26f9f16fd"
      },
      "execution_count": 21,
      "outputs": [
        {
          "output_type": "stream",
          "name": "stdout",
          "text": [
            "10\n",
            "False\n",
            "True\n"
          ]
        }
      ]
    }
  ]
}